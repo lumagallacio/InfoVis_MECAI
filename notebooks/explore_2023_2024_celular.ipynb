{
 "cells": [
  {
   "cell_type": "code",
   "execution_count": 3,
   "metadata": {},
   "outputs": [],
   "source": [
    "import pandas as pd\n",
    "import matplotlib.pyplot as plt\n",
    "import seaborn as sns\n",
    "import numpy as np\n",
    "import folium\n",
    "from folium.plugins import HeatMap\n",
    "import folium\n",
    "from folium.plugins import HeatMap, MarkerCluster\n",
    "import plotly.express as px\n",
    "import plotly.io as pio\n"
   ]
  },
  {
   "cell_type": "markdown",
   "metadata": {},
   "source": [
    "### Carrega dados"
   ]
  },
  {
   "cell_type": "code",
   "execution_count": 257,
   "metadata": {},
   "outputs": [],
   "source": [
    "# dados23 = pd.read_excel('../data/CelularesSubtraidos_2023.xlsx')\n",
    "# dados23 = dados23[dados23['NOME_MUNICIPIO']=='RIBEIRAO PRETO']\n",
    "# dados24 = pd.read_excel('../data/CelularesSubtraidos_2024.xlsx')\n",
    "# dados24 = dados24[dados24['NOME_MUNICIPIO']=='RIBEIRAO PRETO']"
   ]
  },
  {
   "cell_type": "code",
   "execution_count": 259,
   "metadata": {},
   "outputs": [
    {
     "data": {
      "text/plain": [
       "5882"
      ]
     },
     "execution_count": 259,
     "metadata": {},
     "output_type": "execute_result"
    }
   ],
   "source": [
    "# dados = pd.concat([dados23, dados24], ignore_index=True)\n",
    "# dados.to_csv(\"../data/CelularesSubtraidos_2023_2024_sp.csv\")\n",
    "# len(dados)"
   ]
  },
  {
   "cell_type": "code",
   "execution_count": 4,
   "metadata": {},
   "outputs": [
    {
     "name": "stdout",
     "output_type": "stream",
     "text": [
      "5882\n"
     ]
    },
    {
     "data": {
      "text/html": [
       "<div>\n",
       "<style scoped>\n",
       "    .dataframe tbody tr th:only-of-type {\n",
       "        vertical-align: middle;\n",
       "    }\n",
       "\n",
       "    .dataframe tbody tr th {\n",
       "        vertical-align: top;\n",
       "    }\n",
       "\n",
       "    .dataframe thead th {\n",
       "        text-align: right;\n",
       "    }\n",
       "</style>\n",
       "<table border=\"1\" class=\"dataframe\">\n",
       "  <thead>\n",
       "    <tr style=\"text-align: right;\">\n",
       "      <th></th>\n",
       "      <th>Unnamed: 0.1</th>\n",
       "      <th>Unnamed: 0</th>\n",
       "      <th>ID_DELEGACIA</th>\n",
       "      <th>NOME_DEPARTAMENTO</th>\n",
       "      <th>NOME_SECCIONAL</th>\n",
       "      <th>NOME_DELEGACIA</th>\n",
       "      <th>NOME_MUNICIPIO</th>\n",
       "      <th>ANO_BO</th>\n",
       "      <th>NUM_BO</th>\n",
       "      <th>VERSAO</th>\n",
       "      <th>...</th>\n",
       "      <th>DESCR_TIPO_OBJETO</th>\n",
       "      <th>DESCR_SUBTIPO_OBJETO</th>\n",
       "      <th>DESCR_UNIDADE</th>\n",
       "      <th>QUANTIDADE_OBJETO</th>\n",
       "      <th>MARCA_OBJETO</th>\n",
       "      <th>FLAG_BLOQUEIO</th>\n",
       "      <th>FLAG_DESBLOQUEIO</th>\n",
       "      <th>MES</th>\n",
       "      <th>ANO</th>\n",
       "      <th>PERIODO_DO_DIA</th>\n",
       "    </tr>\n",
       "  </thead>\n",
       "  <tbody>\n",
       "    <tr>\n",
       "      <th>0</th>\n",
       "      <td>0</td>\n",
       "      <td>0</td>\n",
       "      <td>900023</td>\n",
       "      <td>DIPOL - DEPTO DE INTELIGENCIA</td>\n",
       "      <td>DELEGACIA ELETRONICA</td>\n",
       "      <td>DELEGACIA ELETRONICA 3</td>\n",
       "      <td>RIBEIRAO PRETO</td>\n",
       "      <td>2023</td>\n",
       "      <td>AI6605</td>\n",
       "      <td>1</td>\n",
       "      <td>...</td>\n",
       "      <td>Telecomunicação</td>\n",
       "      <td>Telefone Celular</td>\n",
       "      <td>NaN</td>\n",
       "      <td>1</td>\n",
       "      <td>Motorola</td>\n",
       "      <td>N</td>\n",
       "      <td>N</td>\n",
       "      <td>1</td>\n",
       "      <td>2023</td>\n",
       "      <td>Tarde</td>\n",
       "    </tr>\n",
       "    <tr>\n",
       "      <th>1</th>\n",
       "      <td>1</td>\n",
       "      <td>1</td>\n",
       "      <td>100919</td>\n",
       "      <td>DEINTER 3 - RIBEIRAO PRETO</td>\n",
       "      <td>DEL.SEC.RIBEIRAO PRETO</td>\n",
       "      <td>CPJ RIBEIRAO PRETO</td>\n",
       "      <td>RIBEIRAO PRETO</td>\n",
       "      <td>2023</td>\n",
       "      <td>AL6985</td>\n",
       "      <td>1</td>\n",
       "      <td>...</td>\n",
       "      <td>Telecomunicação</td>\n",
       "      <td>Telefone Celular</td>\n",
       "      <td>Unidade</td>\n",
       "      <td>1</td>\n",
       "      <td>Motorola</td>\n",
       "      <td>NaN</td>\n",
       "      <td>NaN</td>\n",
       "      <td>1</td>\n",
       "      <td>2023</td>\n",
       "      <td>NaN</td>\n",
       "    </tr>\n",
       "    <tr>\n",
       "      <th>2</th>\n",
       "      <td>2</td>\n",
       "      <td>2</td>\n",
       "      <td>100919</td>\n",
       "      <td>DEINTER 3 - RIBEIRAO PRETO</td>\n",
       "      <td>DEL.SEC.RIBEIRAO PRETO</td>\n",
       "      <td>CPJ RIBEIRAO PRETO</td>\n",
       "      <td>RIBEIRAO PRETO</td>\n",
       "      <td>2023</td>\n",
       "      <td>AL8902</td>\n",
       "      <td>1</td>\n",
       "      <td>...</td>\n",
       "      <td>Telecomunicação</td>\n",
       "      <td>Telefone Celular</td>\n",
       "      <td>Unidade</td>\n",
       "      <td>1</td>\n",
       "      <td>Samsung</td>\n",
       "      <td>S</td>\n",
       "      <td>N</td>\n",
       "      <td>1</td>\n",
       "      <td>2023</td>\n",
       "      <td>Manhã</td>\n",
       "    </tr>\n",
       "  </tbody>\n",
       "</table>\n",
       "<p>3 rows × 54 columns</p>\n",
       "</div>"
      ],
      "text/plain": [
       "   Unnamed: 0.1  Unnamed: 0  ID_DELEGACIA              NOME_DEPARTAMENTO  \\\n",
       "0             0           0        900023  DIPOL - DEPTO DE INTELIGENCIA   \n",
       "1             1           1        100919     DEINTER 3 - RIBEIRAO PRETO   \n",
       "2             2           2        100919     DEINTER 3 - RIBEIRAO PRETO   \n",
       "\n",
       "           NOME_SECCIONAL          NOME_DELEGACIA  NOME_MUNICIPIO  ANO_BO  \\\n",
       "0    DELEGACIA ELETRONICA  DELEGACIA ELETRONICA 3  RIBEIRAO PRETO    2023   \n",
       "1  DEL.SEC.RIBEIRAO PRETO      CPJ RIBEIRAO PRETO  RIBEIRAO PRETO    2023   \n",
       "2  DEL.SEC.RIBEIRAO PRETO      CPJ RIBEIRAO PRETO  RIBEIRAO PRETO    2023   \n",
       "\n",
       "   NUM_BO  VERSAO  ... DESCR_TIPO_OBJETO DESCR_SUBTIPO_OBJETO DESCR_UNIDADE  \\\n",
       "0  AI6605       1  ...   Telecomunicação     Telefone Celular           NaN   \n",
       "1  AL6985       1  ...   Telecomunicação     Telefone Celular       Unidade   \n",
       "2  AL8902       1  ...   Telecomunicação     Telefone Celular       Unidade   \n",
       "\n",
       "  QUANTIDADE_OBJETO MARCA_OBJETO FLAG_BLOQUEIO FLAG_DESBLOQUEIO MES   ANO  \\\n",
       "0                 1     Motorola             N                N   1  2023   \n",
       "1                 1     Motorola           NaN              NaN   1  2023   \n",
       "2                 1      Samsung             S                N   1  2023   \n",
       "\n",
       "  PERIODO_DO_DIA  \n",
       "0          Tarde  \n",
       "1            NaN  \n",
       "2          Manhã  \n",
       "\n",
       "[3 rows x 54 columns]"
      ]
     },
     "execution_count": 4,
     "metadata": {},
     "output_type": "execute_result"
    }
   ],
   "source": [
    "dados = pd.read_csv(\"../data/CelularesSubtraidos_2023_2024_rp.csv\")\n",
    "print(len(dados))\n",
    "dados.head(3)"
   ]
  },
  {
   "cell_type": "markdown",
   "metadata": {},
   "source": [
    "### Entendimento dos Dados"
   ]
  },
  {
   "cell_type": "code",
   "execution_count": 5,
   "metadata": {},
   "outputs": [
    {
     "name": "stdout",
     "output_type": "stream",
     "text": [
      "Variáveis:\n",
      "Index(['Unnamed: 0.1', 'Unnamed: 0', 'ID_DELEGACIA', 'NOME_DEPARTAMENTO',\n",
      "       'NOME_SECCIONAL', 'NOME_DELEGACIA', 'NOME_MUNICIPIO', 'ANO_BO',\n",
      "       'NUM_BO', 'VERSAO', 'NOME_DEPARTAMENTO_CIRC', 'NOME_SECCIONAL_CIRC',\n",
      "       'NOME_DELEGACIA_CIRC', 'NOME_MUNICIPIO_CIRC', 'DATA_OCORRENCIA_BO',\n",
      "       'HORA_OCORRENCIA', 'DESCRICAO_APRESENTACAO', 'DATAHORA_REGISTRO_BO',\n",
      "       'DATA_COMUNICACAO_BO', 'DATAHORA_IMPRESSAO_BO', 'DESCR_PERIODO',\n",
      "       'AUTORIA_BO', 'FLAG_INTOLERANCIA', 'TIPO_INTOLERANCIA',\n",
      "       'FLAG_FLAGRANTE', 'FLAG_STATUS', 'DESC_LEI', 'FLAG_ATO_INFRACIONAL',\n",
      "       'RUBRICA', 'DESCR_CONDUTA', 'DESDOBRAMENTO', 'CIRCUNSTANCIA',\n",
      "       'DESCR_TIPOLOCAL', 'DESCR_SUBTIPOLOCAL', 'CIDADE', 'BAIRRO', 'CEP',\n",
      "       'LOGRADOURO_VERSAO', 'LOGRADOURO', 'NUMERO_LOGRADOURO', 'LATITUDE',\n",
      "       'LONGITUDE', 'CONT_OBJETO', 'DESCR_MODO_OBJETO', 'DESCR_TIPO_OBJETO',\n",
      "       'DESCR_SUBTIPO_OBJETO', 'DESCR_UNIDADE', 'QUANTIDADE_OBJETO',\n",
      "       'MARCA_OBJETO', 'FLAG_BLOQUEIO', 'FLAG_DESBLOQUEIO', 'MES', 'ANO',\n",
      "       'PERIODO_DO_DIA'],\n",
      "      dtype='object')\n"
     ]
    }
   ],
   "source": [
    "print(\"Variáveis:\")\n",
    "print(dados.columns)"
   ]
  },
  {
   "cell_type": "markdown",
   "metadata": {},
   "source": [
    "Valores ausentes"
   ]
  },
  {
   "cell_type": "code",
   "execution_count": 261,
   "metadata": {},
   "outputs": [
    {
     "name": "stdout",
     "output_type": "stream",
     "text": [
      "\n",
      "Valores Ausentes por Coluna:\n",
      "\n",
      "Distribuição de Valores Ausentes (Percentual):\n",
      "TIPO_INTOLERANCIA         100.000000\n",
      "DESDOBRAMENTO              98.384903\n",
      "CIRCUNSTANCIA              88.677321\n",
      "DESCR_UNIDADE              70.469228\n",
      "HORA_OCORRENCIA            52.567154\n",
      "DESCR_PERIODO              47.432846\n",
      "DESCR_CONDUTA              22.934376\n",
      "DESCR_TIPOLOCAL            18.735124\n",
      "DESCR_SUBTIPOLOCAL         17.630058\n",
      "LONGITUDE                  12.189731\n",
      "LATITUDE                   12.189731\n",
      "CEP                        10.404624\n",
      "FLAG_BLOQUEIO               6.919415\n",
      "FLAG_DESBLOQUEIO            6.919415\n",
      "NUMERO_LOGRADOURO           5.661340\n",
      "BAIRRO                      0.561034\n",
      "CONT_OBJETO                 0.000000\n",
      "DESCR_MODO_OBJETO           0.000000\n",
      "DESCR_TIPO_OBJETO           0.000000\n",
      "DESCR_SUBTIPO_OBJETO        0.000000\n",
      "LOGRADOURO                  0.000000\n",
      "LOGRADOURO_VERSAO           0.000000\n",
      "QUANTIDADE_OBJETO           0.000000\n",
      "CIDADE                      0.000000\n",
      "MARCA_OBJETO                0.000000\n",
      "MES                         0.000000\n",
      "Unnamed: 0                  0.000000\n",
      "FLAG_ATO_INFRACIONAL        0.000000\n",
      "RUBRICA                     0.000000\n",
      "ID_DELEGACIA                0.000000\n",
      "NOME_DEPARTAMENTO           0.000000\n",
      "NOME_SECCIONAL              0.000000\n",
      "NOME_DELEGACIA              0.000000\n",
      "NOME_MUNICIPIO              0.000000\n",
      "ANO_BO                      0.000000\n",
      "NUM_BO                      0.000000\n",
      "VERSAO                      0.000000\n",
      "NOME_DEPARTAMENTO_CIRC      0.000000\n",
      "NOME_SECCIONAL_CIRC         0.000000\n",
      "NOME_DELEGACIA_CIRC         0.000000\n",
      "NOME_MUNICIPIO_CIRC         0.000000\n",
      "DATA_OCORRENCIA_BO          0.000000\n",
      "DESCRICAO_APRESENTACAO      0.000000\n",
      "DATAHORA_REGISTRO_BO        0.000000\n",
      "DATA_COMUNICACAO_BO         0.000000\n",
      "DATAHORA_IMPRESSAO_BO       0.000000\n",
      "AUTORIA_BO                  0.000000\n",
      "FLAG_INTOLERANCIA           0.000000\n",
      "FLAG_FLAGRANTE              0.000000\n",
      "FLAG_STATUS                 0.000000\n",
      "DESC_LEI                    0.000000\n",
      "ANO                         0.000000\n",
      "dtype: float64\n"
     ]
    }
   ],
   "source": [
    "# Valores Ausentes\n",
    "print(\"\\nValores Ausentes por Coluna:\")\n",
    "# print(dados.isnull().sum())\n",
    "\n",
    "# Distribuição de Valores Ausentes\n",
    "print(\"\\nDistribuição de Valores Ausentes (Percentual):\")\n",
    "missing_percentage = (dados.isnull().sum() / len(dados)) * 100\n",
    "print(missing_percentage.sort_values(ascending=False))\n",
    "\n",
    "rocket_palette = sns.color_palette(\"rocket\", 10)\n",
    "purple_color = rocket_palette[2]  \n",
    "\n",
    "# Visualização da Distribuição de Valores Ausentes\n",
    "# plt.figure(figsize=(10, 6))\n",
    "# sns.barplot(x=missing_percentage.index, y=missing_percentage.values, color=purple_color)\n",
    "# plt.xticks(rotation=90)\n",
    "# plt.title('Percentual de Valores Ausentes por Coluna')\n",
    "# plt.ylabel('Percentual')\n",
    "# plt.xlabel('Colunas')\n",
    "# plt.show()\n",
    "\n",
    "# Criando o gráfico com Plotly\n",
    "fig = px.bar(\n",
    "    x=missing_percentage.index,\n",
    "    y=missing_percentage.values,\n",
    "    labels={'x': 'Colunas', 'y': 'Percentual'},\n",
    "    color_discrete_sequence=['#6a0dad']  # Cor roxa\n",
    ")\n",
    "\n",
    "# Atualizando o layout para ajustar o eixo x\n",
    "fig.update_layout(\n",
    "    template='plotly_dark',\n",
    "    plot_bgcolor='#1e1e1e',\n",
    "    paper_bgcolor='#1e1e1e',\n",
    "    font=dict(color='white'),\n",
    "    title=dict(font=dict(color='white')),\n",
    "    xaxis=dict(\n",
    "        tickangle=45,  # Rotaciona os rótulos do eixo x para -45 graus\n",
    "        tickfont=dict(size=7) \n",
    "        \n",
    "    ),\n",
    "    margin=dict(l=50, r=50, t=50, b=150)\n",
    ")\n",
    "\n",
    "# Salvando o gráfico como arquivo HTML\n",
    "pio.write_html(fig, file='../results/percentual_valores_ausentes.html', auto_open=False)"
   ]
  },
  {
   "cell_type": "markdown",
   "metadata": {},
   "source": [
    "## Pre processamento"
   ]
  },
  {
   "cell_type": "code",
   "execution_count": 10,
   "metadata": {},
   "outputs": [
    {
     "name": "stdout",
     "output_type": "stream",
     "text": [
      "PERIODO_DO_DIA\n",
      "Madrugada     520\n",
      "Manhã         659\n",
      "Noite        1012\n",
      "Tarde         599\n",
      "Name: count, dtype: int64\n"
     ]
    },
    {
     "name": "stderr",
     "output_type": "stream",
     "text": [
      "/tmp/ipykernel_501850/1698926936.py:8: SettingWithCopyWarning: \n",
      "A value is trying to be set on a copy of a slice from a DataFrame.\n",
      "Try using .loc[row_indexer,col_indexer] = value instead\n",
      "\n",
      "See the caveats in the documentation: https://pandas.pydata.org/pandas-docs/stable/user_guide/indexing.html#returning-a-view-versus-a-copy\n",
      "  dados_filter['HORA_OCORRENCIA'] = pd.to_datetime(dados_filter['HORA_OCORRENCIA'], format='%H:%M:%S').dt.hour\n",
      "/tmp/ipykernel_501850/1698926936.py:21: SettingWithCopyWarning: \n",
      "A value is trying to be set on a copy of a slice from a DataFrame.\n",
      "Try using .loc[row_indexer,col_indexer] = value instead\n",
      "\n",
      "See the caveats in the documentation: https://pandas.pydata.org/pandas-docs/stable/user_guide/indexing.html#returning-a-view-versus-a-copy\n",
      "  dados_filter['PERIODO_DO_DIA'] = dados_filter['HORA_OCORRENCIA'].apply(categorizar_periodo)\n"
     ]
    }
   ],
   "source": [
    "# Madrugada: 0h - 5h\n",
    "# Manhã: 6h - 11h\n",
    "# Tarde: 12h - 17h\n",
    "# Noite: 18h - 23h\n",
    "\n",
    "dados_filter = dados.dropna(subset=['HORA_OCORRENCIA'])\n",
    "\n",
    "dados_filter['HORA_OCORRENCIA'] = pd.to_datetime(dados_filter['HORA_OCORRENCIA'], format='%H:%M:%S').dt.hour\n",
    "\n",
    "def categorizar_periodo(hora):\n",
    "    if 0 <= hora < 6:\n",
    "        return 'Madrugada'\n",
    "    elif 6 <= hora < 12:\n",
    "        return 'Manhã'\n",
    "    elif 12 <= hora < 18:\n",
    "        return 'Tarde'\n",
    "    elif 18 <= hora < 24:\n",
    "        return 'Noite'\n",
    "\n",
    "# Aplicar a função de categorização\n",
    "dados_filter['PERIODO_DO_DIA'] = dados_filter['HORA_OCORRENCIA'].apply(categorizar_periodo)\n",
    "\n",
    "# Contar o número de ocorrências em cada período do dia\n",
    "periodo_counts = dados_filter['PERIODO_DO_DIA'].value_counts().sort_index()\n",
    "\n",
    "dados['PERIODO_DO_DIA'] = dados_filter['PERIODO_DO_DIA']\n",
    "print(periodo_counts)"
   ]
  },
  {
   "cell_type": "markdown",
   "metadata": {},
   "source": [
    "Corrige bairro com nome errado"
   ]
  },
  {
   "cell_type": "code",
   "execution_count": 11,
   "metadata": {},
   "outputs": [
    {
     "data": {
      "text/plain": [
       "BAIRRO\n",
       "CENTRO                     607\n",
       "JD JOQUEI CLUBE            558\n",
       "CAMPOS ELISEOS             478\n",
       "RIBEIRANIA                 154\n",
       "VILA TIBERIO               147\n",
       "                          ... \n",
       "JARDIM JAVARI                1\n",
       "JARDIM PLANALTO              1\n",
       "PARQUE DOS BANDEIRANTES      1\n",
       "CJ HAB JD PALMEIRAS          1\n",
       "JARDIM GENESIO MASSARO       1\n",
       "Name: count, Length: 282, dtype: int64"
      ]
     },
     "execution_count": 11,
     "metadata": {},
     "output_type": "execute_result"
    }
   ],
   "source": [
    "import unicodedata\n",
    "\n",
    "def normalize_string(s):\n",
    "    if isinstance(s, str):\n",
    "        s = unicodedata.normalize('NFKD', s).encode('ASCII', 'ignore').decode('utf-8')\n",
    "        return s.upper()\n",
    "    return s\n",
    "\n",
    "# Aplicar a normalização à coluna 'BAIRRO'\n",
    "dados['BAIRRO'] = dados['BAIRRO'].apply(normalize_string)\n",
    "\n",
    "mapping = {\n",
    "    'CAMPOS ELISIOS': 'CAMPOS ELISEOS',\n",
    "    'JARDIM JOQUEI CLUBE': 'JD JOQUEI CLUBE',\n",
    "    # Adicione outras correções específicas aqui, se necessário\n",
    "}\n",
    "\n",
    "# Função para aplicar o mapeamento\n",
    "def correct_bairro(bairro):\n",
    "    return mapping.get(bairro, bairro)\n",
    "\n",
    "# Aplicar a correção à coluna 'BAIRRO'\n",
    "dados['BAIRRO'] = dados['BAIRRO'].apply(correct_bairro)\n",
    "\n",
    "# Agrupar pelos bairros corrigidos e somar as ocorrências\n",
    "# dados = dados.groupby('BAIRRO')['COUNT'].sum().reset_index()\n",
    "dados['BAIRRO'].value_counts()"
   ]
  },
  {
   "cell_type": "code",
   "execution_count": 13,
   "metadata": {},
   "outputs": [
    {
     "data": {
      "text/plain": [
       "BAIRRO\n",
       "JD JOQUEI CLUBE                  522\n",
       "CENTRO                           446\n",
       "CAMPOS ELISEOS                   341\n",
       "RIBEIRANIA                       124\n",
       "PQ RIBEIRAO PRETO                115\n",
       "                                ... \n",
       "CONDOMINIO VILLA BUENOS AIRES      1\n",
       "REPUBLICA                          1\n",
       "JARDIM PATRIARCA                   1\n",
       "JARDIM JAMIL SEME CURY             1\n",
       "RES E COM PALMARES                 1\n",
       "Name: count, Length: 262, dtype: int64"
      ]
     },
     "execution_count": 13,
     "metadata": {},
     "output_type": "execute_result"
    }
   ],
   "source": [
    "dados23 = dados[dados['ANO']==2023]\n",
    "\n",
    "dados23['BAIRRO'].value_counts()"
   ]
  },
  {
   "cell_type": "code",
   "execution_count": 313,
   "metadata": {},
   "outputs": [
    {
     "data": {
      "text/plain": [
       "5882"
      ]
     },
     "execution_count": 313,
     "metadata": {},
     "output_type": "execute_result"
    }
   ],
   "source": [
    "# dados = pd.concat([dados23, dados24], ignore_index=True)\n",
    "dados.to_csv(\"../data/CelularesSubtraidos_2023_2024_rp.csv\")\n",
    "len(dados)"
   ]
  },
  {
   "cell_type": "markdown",
   "metadata": {},
   "source": [
    "## Analises iniciais\n"
   ]
  },
  {
   "cell_type": "markdown",
   "metadata": {},
   "source": [
    "### Mapa de calor com crimes"
   ]
  },
  {
   "cell_type": "code",
   "execution_count": 14,
   "metadata": {},
   "outputs": [],
   "source": [
    "map_center = [-21.1775, -47.8103]\n",
    "\n",
    "from folium.plugins import HeatMap, MarkerCluster, Fullscreen\n",
    "\n",
    "def gera_heatmap(data, path_to_save):\n",
    "    # Criar um mapa base\n",
    "    data_cp = data.copy()\n",
    "    data_cp = data_cp[\n",
    "        (data_cp['LATITUDE'] <= 5.27) & (data_cp['LATITUDE'] >= -33.75) & \n",
    "        (data_cp['LONGITUDE'] >= -73.99) & (data_cp['LONGITUDE'] <= -34.79)\n",
    "    ]\n",
    "    mapa = folium.Map(location=map_center, zoom_start=14)\n",
    "    Fullscreen().add_to(mapa)\n",
    "    # Adicionar os pontos de crimes como um mapa de calor\n",
    "    heat_data = [[row['LATITUDE'], row['LONGITUDE']] for index, row in data_cp.iterrows() if not pd.isnull(row['LATITUDE']) and not pd.isnull(row['LONGITUDE'])]\n",
    "    HeatMap(heat_data).add_to(mapa)\n",
    "\n",
    "    # Adicionar os pontos de crimes usando clusters\n",
    "    marker_cluster = MarkerCluster().add_to(mapa)\n",
    "    for index, row in data_cp.iterrows():\n",
    "        if not pd.isnull(row['LATITUDE']) and not pd.isnull(row['LONGITUDE']):\n",
    "            folium.Marker(\n",
    "                location=[row['LATITUDE'], row['LONGITUDE']],\n",
    "                popup = (\n",
    "                    f\"Tipo de Local: {row['DESCR_TIPOLOCAL']}<br>\"\n",
    "                    f\"Data: {row['DATA_OCORRENCIA_BO']}<br>\"\n",
    "                    f\"Lat: {row['LATITUDE']}<br>\"\n",
    "                    f\"Lng: {row['LONGITUDE']}\"\n",
    "                ),\n",
    "                icon=folium.Icon(color='blue', icon='info-sign')\n",
    "            ).add_to(marker_cluster)\n",
    "\n",
    "    # Salvar o mapa em um arquivo HTML\n",
    "    mapa.save(path_to_save)\n",
    "    \n",
    "path='../results/heatmap_rp_celular_2023.html'\n",
    "gera_heatmap(dados23, path)"
   ]
  },
  {
   "cell_type": "code",
   "execution_count": 314,
   "metadata": {},
   "outputs": [],
   "source": [
    "# dados24 = dados[dados['ANO']==2024]\n",
    "path='../results/heatmap_rp_celular_2023_e_2024.html'\n",
    "gera_heatmap(dados, path)\n",
    "# dados_filtered = dados[dados['PERIODO_DO_DIA']=='Madrugada']\n",
    "# path='../results/heatmap_rp_celular_madrugada.html'\n",
    "# gera_heatmap(dados_filtered, path)\n",
    "\n",
    "# dados_filtered = dados[dados['PERIODO_DO_DIA']=='Noite']\n",
    "# path='../results/heatmap_rp_celular_noite.html'\n",
    "# gera_heatmap(dados_filtered, path)\n",
    "\n",
    "# dados_filtered = dados[dados['PERIODO_DO_DIA']=='Manhã']\n",
    "# path='../results/heatmap_rp_celular_manha.html'\n",
    "# gera_heatmap(dados_filtered, path)\n",
    "\n",
    "# dados_filtered = dados[dados['PERIODO_DO_DIA']=='Tarde']\n",
    "# path='../results/heatmap_rp_celular_tarde.html'\n",
    "# gera_heatmap(dados_filtered, path)\n"
   ]
  },
  {
   "cell_type": "markdown",
   "metadata": {},
   "source": [
    "### Local com maior ocorrencia"
   ]
  },
  {
   "cell_type": "code",
   "execution_count": 274,
   "metadata": {},
   "outputs": [
    {
     "data": {
      "text/plain": [
       "DESCR_TIPOLOCAL\n",
       "Via Pública                     4014\n",
       "Residência                       196\n",
       "Lazer e Recreação                 96\n",
       "Comércio e Serviços               87\n",
       "Terminal/Estação                  67\n",
       "Rodovia/Estrada                   49\n",
       "Restaurante e Afins               42\n",
       "Condomínio Residencial            33\n",
       "Estacionamento/Garagem            32\n",
       "Condomínio Comercial              31\n",
       "Area não Ocupada                  24\n",
       "Centro Comercial/Empresarial      16\n",
       "Shopping Center                   13\n",
       "Unidade Rural                     12\n",
       "Saúde                             11\n",
       "Hospedagem                         9\n",
       "Escritório                         9\n",
       "Estabelecimento Industrial         8\n",
       "Repartição Pública                 8\n",
       "Estabelecimento de Ensino          7\n",
       "Entidade Assistencial              4\n",
       "Favela                             4\n",
       "Local Clandestino/Ilegal           3\n",
       "Templo e Afins                     2\n",
       "Estabelecimento Bancário           2\n",
       "Internet                           1\n",
       "Name: count, dtype: int64"
      ]
     },
     "execution_count": 274,
     "metadata": {},
     "output_type": "execute_result"
    }
   ],
   "source": [
    "dados['DESCR_TIPOLOCAL'].value_counts()"
   ]
  },
  {
   "cell_type": "code",
   "execution_count": 276,
   "metadata": {},
   "outputs": [
    {
     "name": "stderr",
     "output_type": "stream",
     "text": [
      "/tmp/ipykernel_29538/3476887718.py:17: FutureWarning:\n",
      "\n",
      "\n",
      "\n",
      "Passing `palette` without assigning `hue` is deprecated and will be removed in v0.14.0. Assign the `y` variable to `hue` and set `legend=False` for the same effect.\n",
      "\n",
      "\n"
     ]
    },
    {
     "data": {
      "image/png": "[encoded data removed]",
      "text/plain": [
       "<Figure size 1200x1000 with 1 Axes>"
      ]
     },
     "metadata": {},
     "output_type": "display_data"
    }
   ],
   "source": [
    "\n",
    "tipo_local_counts = dados.dropna(subset=['DESCR_TIPOLOCAL'])\n",
    "tipo_local_counts = dados['DESCR_TIPOLOCAL'].value_counts()\n",
    "\n",
    "top_5_locais = tipo_local_counts.head(5)\n",
    "resto = tipo_local_counts[5:].sum()\n",
    "top_5_locais['Outros'] = resto\n",
    "\n",
    "# Reformatar os dados para um DataFrame\n",
    "top_5_locais_df = top_5_locais.reset_index()\n",
    "top_5_locais_df.columns = ['DESCR_TIPOLOCAL', 'Contagem']\n",
    "total_count_adjusted = top_5_locais.sum()\n",
    "\n",
    "# Plotando o gráfico\n",
    "plt.figure(figsize=(12, 10))\n",
    "\n",
    "# Barplot principal\n",
    "sns.barplot(x='Contagem', y='DESCR_TIPOLOCAL', data=top_5_locais_df, palette='rocket')\n",
    "\n",
    "# Adicionando informações de proporção dentro das barras\n",
    "for index, value in enumerate(top_5_locais):\n",
    "    plt.text(value, index, f' {value} ({value / total_count_adjusted * 100:.2f}%)', ha='left', va='center', color='black')\n",
    "\n",
    "# Configurações do gráfico\n",
    "plt.title('Contagem de Ocorrências por Tipo de Local')\n",
    "plt.xlabel('Contagem')\n",
    "plt.ylabel('Tipo de Local')\n",
    "\n",
    "# Ajustando o layout\n",
    "plt.tight_layout()\n",
    "plt.show()"
   ]
  },
  {
   "cell_type": "code",
   "execution_count": 277,
   "metadata": {},
   "outputs": [],
   "source": [
    "# Contagem dos tipos de local\n",
    "tipo_local_counts = dados.dropna(subset=['DESCR_TIPOLOCAL'])\n",
    "tipo_local_counts = dados['DESCR_TIPOLOCAL'].value_counts()\n",
    "\n",
    "top_5_locais = tipo_local_counts.head(5)\n",
    "resto = tipo_local_counts[5:].sum()\n",
    "top_5_locais['Outros'] = resto\n",
    "\n",
    "\n",
    "# Reformatar os dados para um DataFrame\n",
    "top_5_locais_df = top_5_locais.reset_index()\n",
    "top_5_locais_df.columns = ['DESCR_TIPOLOCAL', 'Contagem']\n",
    "\n",
    "total_count_adjusted = top_5_locais.sum()\n",
    "\n",
    "# Ordenar por quantidade\n",
    "top_5_locais_df = top_5_locais_df.sort_values(by='Contagem', ascending=False)\n",
    "\n",
    "# Converter a paleta de cores 'rocket' do Seaborn para uma lista de cores para Plotly\n",
    "palette = [f'rgb{tuple(int(c*255) for c in color)}' for color in sns.color_palette(\"rocket\", len(top_5_locais_df))]\n",
    "\n",
    "fig = px.bar(\n",
    "    top_5_locais_df,\n",
    "    x='Contagem',\n",
    "    y='DESCR_TIPOLOCAL',\n",
    "    orientation='h',\n",
    "    labels={'DESCR_TIPOLOCAL': 'Tipo de Local', 'Contagem': 'Contagem'},\n",
    "    text=top_5_locais_df['Contagem'].apply(lambda x: f'{x} ({x / total_count_adjusted * 100:.2f}%)')\n",
    ")\n",
    "\n",
    "\n",
    "# Aplicar a paleta de cores 'rocket'\n",
    "fig.update_traces(marker=dict(color=top_5_locais_df['DESCR_TIPOLOCAL'].apply(lambda x: palette[top_5_locais_df['DESCR_TIPOLOCAL'].tolist().index(x)])))\n",
    "\n",
    "# Configurações de layout para dark mode\n",
    "fig.update_layout(\n",
    "    title_font=dict(size=24, color='white'),\n",
    "    xaxis_title='Contagem',\n",
    "    yaxis_title='Tipo de Local',\n",
    "    font=dict(color='white'),\n",
    "    paper_bgcolor='#0E1117',\n",
    "    plot_bgcolor='#0E1117',\n",
    "    xaxis=dict(showgrid=False),\n",
    "    yaxis=dict(showgrid=False)\n",
    ")\n",
    "\n",
    "\n",
    "# Save plot to HTML\n",
    "fig.write_html(\"../results/tipo_local.html\")\n"
   ]
  },
  {
   "cell_type": "code",
   "execution_count": 113,
   "metadata": {},
   "outputs": [
    {
     "name": "stdout",
     "output_type": "stream",
     "text": [
      "RUBRICA\n",
      "Furto (art. 155)                                                                    2570\n",
      "Roubo (art. 157)                                                                    1951\n",
      "Perda/Extravio                                                                       992\n",
      "Outros não criminal                                                                   97\n",
      "Localização/Apreensão e Entrega de veículo                                            90\n",
      "Estelionato (art. 171)                                                                23\n",
      "Ameaça (art. 147)                                                                     21\n",
      "Lesão corporal (art. 129)                                                             16\n",
      "Localização/Apreensão e Entrega de objeto                                             16\n",
      "Localização/Apreensão de veículo                                                      12\n",
      "Caput Corromper ou facilitar a corrupção de menor de 18 anos (244B)                    9\n",
      "Receptação (art. 180)                                                                  9\n",
      "Localização/Apreensão de objeto                                                        8\n",
      "Violência Doméstica                                                                    8\n",
      "Dano (art. 163)                                                                        7\n",
      "Descumprimento de medida protetiva de urgência (art. 24-A)                             6\n",
      "Apropriação de coisa havida por erro, caso fortuito, força da natureza (art 169)       5\n",
      "Injúria (art. 140)                                                                     5\n",
      "Apropriação indébita (art. 168)                                                        4\n",
      "Adulteração de sinal identificador de veículo automotor (art. 311)                     4\n",
      "Seqüestro e cárcere privado (art. 148)                                                 4\n",
      "Violação de domicílio (art. 150)                                                       2\n",
      "Entrega de veículo localizado/apreendido                                               2\n",
      "Vias de fato (art. 21)                                                                 2\n",
      "Exercício arbitrário das próprias razões (art. 345)                                    2\n",
      "Furto de coisa comum (art. 156)                                                        2\n",
      "Art.216B -Produzir, fotografar, filmar ou registrar, por qualquer meio, conteúdo       1\n",
      "Crime contra registro de marca (Art. 190)                                              1\n",
      "Desaparecimento de pessoa                                                              1\n",
      "Drogas sem autorização ou em desacordo (Art.33, caput)                                 1\n",
      "Art. 213 - Estupro                                                                     1\n",
      "Lesão corporal (Art. 27)                                                               1\n",
      "Calúnia (art. 138)                                                                     1\n",
      "Perseguir (art. 147-A)                                                                 1\n",
      "Lesão corporal culposa na direção de veículo automotor (Art. 303)                      1\n",
      "Entrega de objeto localizado/apreendido                                                1\n",
      "Drogas para consumo pessoal sem autorização ou em desacordo (Art.28,caput)             1\n",
      "Cumprimento de mandado de busca e apreensão                                            1\n",
      "Extorsão (art. 158)                                                                    1\n",
      "Invasão de dispositivo informático                                                     1\n",
      "Disparo de arma de fogo (Art. 15)                                                      1\n",
      "Name: count, dtype: int64\n"
     ]
    }
   ],
   "source": [
    "tipo_counts = dados['RUBRICA'].value_counts()\n",
    "print(tipo_counts)\n",
    "tipo_counts['Outros'] = tipo_counts[~tipo_counts.index.isin(['Furto (art. 155)', 'Roubo (art. 157)', 'Perda/Extravio'])].sum()\n",
    "tipo_counts = tipo_counts[['Furto (art. 155)', 'Roubo (art. 157)', 'Perda/Extravio', 'Outros' ]]"
   ]
  },
  {
   "cell_type": "code",
   "execution_count": 114,
   "metadata": {},
   "outputs": [
    {
     "name": "stderr",
     "output_type": "stream",
     "text": [
      "/tmp/ipykernel_29538/2676147973.py:13: FutureWarning:\n",
      "\n",
      "\n",
      "\n",
      "Passing `palette` without assigning `hue` is deprecated and will be removed in v0.14.0. Assign the `y` variable to `hue` and set `legend=False` for the same effect.\n",
      "\n",
      "\n"
     ]
    },
    {
     "data": {
      "image/png": "[encoded data removed]",
      "text/plain": [
       "<Figure size 1200x1000 with 1 Axes>"
      ]
     },
     "metadata": {},
     "output_type": "display_data"
    }
   ],
   "source": [
    "import seaborn as sns\n",
    "import matplotlib.pyplot as plt\n",
    "top_20_locais = tipo_counts.head(5)\n",
    "\n",
    "# Reformatar os dados para um DataFrame\n",
    "top_20_locais_df = top_20_locais.reset_index()\n",
    "top_20_locais_df.columns = ['RUBRICA', 'Contagem']\n",
    "\n",
    "# Plotando o gráfico\n",
    "plt.figure(figsize=(12, 10))\n",
    "\n",
    "# Barplot principal\n",
    "sns.barplot(x='Contagem', y='RUBRICA', data=top_20_locais_df, palette='rocket')\n",
    "\n",
    "# Adicionando informações de proporção dentro das barras\n",
    "for index, value in enumerate(top_20_locais):\n",
    "    plt.text(value, index, f' {value} ({value / len(dados) * 100:.2f}%)', ha='left', va='center', color='black')\n",
    "\n",
    "# Configurações do gráfico\n",
    "plt.title('Tipo')\n",
    "plt.xlabel('Contagem')\n",
    "plt.ylabel('Tipo de Local')\n",
    "\n",
    "# Ajustando o layout\n",
    "plt.tight_layout()\n",
    "\n",
    "plt.show()\n"
   ]
  },
  {
   "cell_type": "code",
   "execution_count": 118,
   "metadata": {},
   "outputs": [],
   "source": [
    "palette = sns.color_palette(\"rocket\", as_cmap=False).as_hex()\n",
    "\n",
    "# Plotando o gráfico usando Plotly\n",
    "fig = px.bar(top_20_locais_df, x='Contagem', y='RUBRICA', orientation='h', \n",
    "              labels={'RUBRICA': 'Tipo de Ocorrência', 'Contagem': 'Contagem'},\n",
    "             text=top_20_locais_df['Contagem'].apply(lambda x: f'{x} ({x / len(dados) * 100:.2f}%)'))\n",
    "\n",
    "# Aplicar a paleta de cores convertida ao gráfico\n",
    "fig.update_traces(marker=dict(color=top_20_locais_df['Contagem'], colorscale=palette))\n",
    "\n",
    "# Configurações de layout para dark mode\n",
    "fig.update_layout(\n",
    "    title_font=dict(size=24, color='white'),\n",
    "    xaxis_title='Contagem',\n",
    "    yaxis_title='Tipo de Ocorrência',\n",
    "    font=dict(color='white'),\n",
    "    paper_bgcolor='#0E1117',\n",
    "    plot_bgcolor='#0E1117',\n",
    "    xaxis=dict(showgrid=False),\n",
    "    yaxis=dict(showgrid=False)\n",
    ")\n",
    "\n",
    "# Save plot to HTML\n",
    "fig.write_html(\"../results/tipo.html\")"
   ]
  },
  {
   "cell_type": "markdown",
   "metadata": {},
   "source": [
    "### Coordenadas paralelas"
   ]
  },
  {
   "cell_type": "code",
   "execution_count": 288,
   "metadata": {},
   "outputs": [
    {
     "data": {
      "text/plain": [
       "BAIRRO\n",
       "JD JOQUEI CLUBE    522\n",
       "CENTRO             446\n",
       "CAMPOS ELISEOS     341\n",
       "RIBEIRANIA         124\n",
       "Name: count, dtype: int64"
      ]
     },
     "execution_count": 288,
     "metadata": {},
     "output_type": "execute_result"
    }
   ],
   "source": [
    "dados23_cp = dados23.copy()\n",
    "dados23_cp['Indice Ocorrencia'] = range(len(dados23_cp))\n",
    "dados23_cp\n",
    "\n",
    "# dados_filter_rp = dados.dropna(subset=['BAIRRO', 'PERIODO_DO_DIA'])\n",
    "\n",
    "# Identificar os bairros com mais ocorrências\n",
    "bairros_mais_ocorrencias = dados23_cp['BAIRRO'].value_counts().nlargest(4).index\n",
    "bairros_mais_ocorrencias\n",
    "dados_filter_rp = dados23_cp[dados23_cp['BAIRRO'].isin(bairros_mais_ocorrencias)].copy()\n",
    "dados_filter_rp['BAIRRO'].value_counts()"
   ]
  },
  {
   "cell_type": "code",
   "execution_count": 289,
   "metadata": {},
   "outputs": [],
   "source": [
    "dados_filter_rp['DATA_OCORRENCIA_BO'] = pd.to_datetime(dados_filter_rp['DATA_OCORRENCIA_BO'])\n",
    "\n",
    "dados_filter_rp['mes_ocorrencia'] = dados_filter_rp['DATA_OCORRENCIA_BO'].dt.month\n",
    "\n",
    "dados_filter_rp['bimestre_ocorrencia'] = (dados_filter_rp['mes_ocorrencia'] - 1) // 2 + 1\n"
   ]
  },
  {
   "cell_type": "code",
   "execution_count": 290,
   "metadata": {},
   "outputs": [
    {
     "data": {
      "text/plain": [
       "RUBRICA\n",
       "Furto (art. 155)    939\n",
       "Roubo (art. 157)    262\n",
       "Perda/Extravio      187\n",
       "Outros               45\n",
       "Name: count, dtype: int64"
      ]
     },
     "execution_count": 290,
     "metadata": {},
     "output_type": "execute_result"
    }
   ],
   "source": [
    "tipo_counts = dados_filter_rp['RUBRICA'].value_counts()\n",
    "tipos_in=['Furto (art. 155)', 'Roubo (art. 157)', 'Perda/Extravio']\n",
    "tipo_counts['Outros'] = tipo_counts[~tipo_counts.index.isin(tipos_in)].sum()\n",
    "tipo_counts = tipo_counts[['Furto (art. 155)', 'Roubo (art. 157)', 'Perda/Extravio', 'Outros']]\n",
    "tipo_counts"
   ]
  },
  {
   "cell_type": "code",
   "execution_count": 291,
   "metadata": {},
   "outputs": [
    {
     "data": {
      "text/plain": [
       "RUBRICA\n",
       "Furto (art. 155)    939\n",
       "Roubo (art. 157)    262\n",
       "Perda/Extravio      187\n",
       "Outros               45\n",
       "Name: count, dtype: int64"
      ]
     },
     "execution_count": 291,
     "metadata": {},
     "output_type": "execute_result"
    }
   ],
   "source": [
    "dados_filter_rp.loc[~dados_filter_rp['RUBRICA'].isin(tipos_in), 'RUBRICA'] = 'Outros'\n",
    "\n",
    "dados_filter_rp['RUBRICA'].value_counts()"
   ]
  },
  {
   "cell_type": "code",
   "execution_count": 292,
   "metadata": {},
   "outputs": [
    {
     "data": {
      "text/html": [
       "<div>\n",
       "<style scoped>\n",
       "    .dataframe tbody tr th:only-of-type {\n",
       "        vertical-align: middle;\n",
       "    }\n",
       "\n",
       "    .dataframe tbody tr th {\n",
       "        vertical-align: top;\n",
       "    }\n",
       "\n",
       "    .dataframe thead th {\n",
       "        text-align: right;\n",
       "    }\n",
       "</style>\n",
       "<table border=\"1\" class=\"dataframe\">\n",
       "  <thead>\n",
       "    <tr style=\"text-align: right;\">\n",
       "      <th></th>\n",
       "      <th>BAIRRO</th>\n",
       "      <th>RUBRICA</th>\n",
       "      <th>bimestre_ocorrencia</th>\n",
       "    </tr>\n",
       "  </thead>\n",
       "  <tbody>\n",
       "    <tr>\n",
       "      <th>0</th>\n",
       "      <td>CENTRO</td>\n",
       "      <td>Furto (art. 155)</td>\n",
       "      <td>1</td>\n",
       "    </tr>\n",
       "    <tr>\n",
       "      <th>1</th>\n",
       "      <td>CENTRO</td>\n",
       "      <td>Roubo (art. 157)</td>\n",
       "      <td>1</td>\n",
       "    </tr>\n",
       "    <tr>\n",
       "      <th>3</th>\n",
       "      <td>CENTRO</td>\n",
       "      <td>Roubo (art. 157)</td>\n",
       "      <td>1</td>\n",
       "    </tr>\n",
       "    <tr>\n",
       "      <th>4</th>\n",
       "      <td>CENTRO</td>\n",
       "      <td>Roubo (art. 157)</td>\n",
       "      <td>1</td>\n",
       "    </tr>\n",
       "    <tr>\n",
       "      <th>5</th>\n",
       "      <td>CENTRO</td>\n",
       "      <td>Roubo (art. 157)</td>\n",
       "      <td>1</td>\n",
       "    </tr>\n",
       "  </tbody>\n",
       "</table>\n",
       "</div>"
      ],
      "text/plain": [
       "   BAIRRO           RUBRICA  bimestre_ocorrencia\n",
       "0  CENTRO  Furto (art. 155)                    1\n",
       "1  CENTRO  Roubo (art. 157)                    1\n",
       "3  CENTRO  Roubo (art. 157)                    1\n",
       "4  CENTRO  Roubo (art. 157)                    1\n",
       "5  CENTRO  Roubo (art. 157)                    1"
      ]
     },
     "execution_count": 292,
     "metadata": {},
     "output_type": "execute_result"
    }
   ],
   "source": [
    "dados_filter_rp[['BAIRRO', 'RUBRICA', 'bimestre_ocorrencia']].head(5)"
   ]
  },
  {
   "cell_type": "code",
   "execution_count": 297,
   "metadata": {},
   "outputs": [],
   "source": [
    "dados_filter_rp = dados_filter_rp.sort_values(by='bimestre_ocorrencia')\n",
    "\n",
    "# Mapear categorias para cores utilizando a paleta de cores do Seaborn\n",
    "palette = sns.color_palette(\"tab10\", len(dados_filter_rp['bimestre_ocorrencia'].unique()))\n",
    "cor_por_categoria = dict(zip(dados_filter_rp['bimestre_ocorrencia'].unique(), palette))\n",
    "cor_por_categoria_rgb = {cat: f'rgb({int(cor[0]*255)},{int(cor[1]*255)},{int(cor[2]*255)})' for cat, cor in cor_por_categoria.items()}\n",
    "\n",
    "# Adicionar uma coluna de cores ao DataFrame com base na categoria\n",
    "dados_filter_rp['COR'] = dados_filter_rp['bimestre_ocorrencia'].map(cor_por_categoria_rgb)\n",
    "\n",
    "# Criar o gráfico de coordenadas paralelas\n",
    "fig = px.parallel_categories(dados_filter_rp, dimensions=['BAIRRO', 'RUBRICA', 'bimestre_ocorrencia'],\n",
    "                             color='COR', labels={'BAIRRO': 'Bairro', 'RUBRICA': 'Tipo', 'bimestre_ocorrencia': 'Bimestre'})\n",
    "\n",
    "# Adicionar título\n",
    "# fig.update_layout(title='Distribuição de Crimes por Categoria e Período do Dia nos Bairros com mais Ocorrências')\n",
    "\n",
    "# Mostrar o gráfico\n",
    "fig.write_html(\"../results/parallel_categories_rp_celular_2023.html\")"
   ]
  },
  {
   "cell_type": "code",
   "execution_count": 307,
   "metadata": {},
   "outputs": [],
   "source": [
    "dados_filter_rp = dados_filter_rp.sort_values(by='bimestre_ocorrencia')\n",
    "\n",
    "# Mapear categorias para cores utilizando a paleta de cores do Seaborn\n",
    "palette = sns.color_palette(\"tab10\", len(dados_filter_rp['bimestre_ocorrencia'].unique()))\n",
    "cor_por_categoria = dict(zip(dados_filter_rp['bimestre_ocorrencia'].unique(), palette))\n",
    "cor_por_categoria_rgb = {cat: f'rgb({int(cor[0]*255)},{int(cor[1]*255)},{int(cor[2]*255)})' for cat, cor in cor_por_categoria.items()}\n",
    "\n",
    "# Adicionar uma coluna de cores ao DataFrame com base na categoria\n",
    "dados_filter_rp['COR'] = dados_filter_rp['bimestre_ocorrencia'].map(cor_por_categoria_rgb)\n",
    "\n",
    "# Criar o gráfico de coordenadas paralelas\n",
    "fig = px.parallel_categories(dados_filter_rp, dimensions=['BAIRRO', 'RUBRICA', 'bimestre_ocorrencia'],\n",
    "                             color=dados_filter_rp['bimestre_ocorrencia'].map(cor_por_categoria_rgb),\n",
    "                             labels={'BAIRRO': 'Bairro', 'RUBRICA': 'Tipo', 'bimestre_ocorrencia': 'Bimestre'},\n",
    "                             color_continuous_scale=None)\n",
    "\n",
    "# Configurações de layout para dark mode e aumento do tamanho do gráfico\n",
    "fig.update_layout(\n",
    "    # title='Distribuição de Crimes por Categoria e Período do Dia nos Bairros com mais Ocorrências',\n",
    "    title_font=dict(size=24, color='white'),\n",
    "    font=dict(color='white'),\n",
    "    paper_bgcolor='#0E1117',\n",
    "    plot_bgcolor='#0E1117',\n",
    "    width=800,\n",
    "    height=600\n",
    ")\n",
    "\n",
    "fig.write_html(\"../results/parallel_categories_rp_celular_2023.html\")\n",
    "\n"
   ]
  },
  {
   "cell_type": "markdown",
   "metadata": {},
   "source": [
    "### Analise tempo"
   ]
  },
  {
   "cell_type": "code",
   "execution_count": 229,
   "metadata": {},
   "outputs": [],
   "source": [
    "\n",
    "dados['DATA_OCORRENCIA_BO'] = pd.to_datetime(dados23['DATA_OCORRENCIA_BO'])\n",
    "\n",
    "dados23['mes_ocorrencia'] = dados23['DATA_OCORRENCIA_BO'].dt.month\n",
    "\n",
    "dados23['bimestre_ocorrencia'] = (dados23['mes_ocorrencia'] - 1) // 2 + 1\n",
    "\n",
    "dados23[['BAIRRO', 'RUBRICA', 'bimestre_ocorrencia', 'mes_ocorrencia']]\n",
    "\n",
    "# Agrupar por mês e contar as ocorrências\n",
    "mensal_counts = dados23.groupby('mes_ocorrencia').size().reset_index(name='Contagem')\n",
    "\n",
    "# Agrupar por bimestre e contar as ocorrências\n",
    "bimestral_counts = dados23.groupby('bimestre_ocorrencia').size().reset_index(name='Contagem')\n",
    "\n",
    "# # Plotando o gráfico mensal\n",
    "# plt.figure(figsize=(14, 6))\n",
    "# sns.lineplot(x='mes_ocorrencia', y='Contagem', data=mensal_counts, marker='o')\n",
    "# plt.title('Contagem de Ocorrências por Mês')\n",
    "# plt.xlabel('Mês')\n",
    "# plt.ylabel('Contagem de Ocorrências')\n",
    "# plt.xticks(range(1, 13))\n",
    "# plt.grid(True)\n",
    "# plt.show()\n"
   ]
  },
  {
   "cell_type": "code",
   "execution_count": 250,
   "metadata": {},
   "outputs": [
    {
     "data": {
      "image/png": "[encoded data removed]",
      "text/plain": [
       "<Figure size 1400x800 with 1 Axes>"
      ]
     },
     "metadata": {},
     "output_type": "display_data"
    }
   ],
   "source": [
    "import pandas as pd\n",
    "import seaborn as sns\n",
    "import matplotlib.pyplot as plt\n",
    "\n",
    "# Supondo que 'dados23' seja o DataFrame original\n",
    "# Criando uma cópia do DataFrame\n",
    "dados_cp = dados23.copy()\n",
    "\n",
    "# Definindo os tipos de rubricas para manter\n",
    "\n",
    "# Agrupar rubricas não pertencentes a 'tipos_in' em 'Outros'\n",
    "dados_cp.loc[~dados_cp['RUBRICA'].isin(tipos_in), 'RUBRICA'] = 'Outros'\n",
    "\n",
    "# Converter a coluna 'DATA_OCORRENCIA_BO' para datetime\n",
    "dados_cp['DATA_OCORRENCIA_BO'] = pd.to_datetime(dados_cp['DATA_OCORRENCIA_BO'])\n",
    "\n",
    "# Criar a coluna 'mes_ocorrencia'\n",
    "dados_cp['mes_ocorrencia'] = dados_cp['DATA_OCORRENCIA_BO'].dt.month\n",
    "\n",
    "# Agrupar dados_cp por mês e rubrica e contar ocorrências\n",
    "area_data = dados_cp.groupby(['mes_ocorrencia', 'RUBRICA']).size().unstack(fill_value=0)\n",
    "\n",
    "# Ordenar as colunas pelo total de ocorrências em ordem decrescente\n",
    "column_totals = area_data.sum(axis=0)\n",
    "area_data = area_data[column_totals.sort_values(ascending=False).index]\n",
    "\n",
    "# Obter a paleta de cores \"rocket\" do Seaborn\n",
    "palette = sns.color_palette(\"rocket\", len(area_data.columns))\n",
    "\n",
    "# Plotar o gráfico de área\n",
    "area_data.plot(kind='area', stacked=True, figsize=(14, 8), color=palette, alpha=0.7)\n",
    "plt.xlabel('Mês')\n",
    "plt.ylabel('Contagem de Ocorrências')\n",
    "plt.legend(title='Tipo de Crime')\n",
    "plt.grid(True)\n",
    "plt.show()\n"
   ]
  },
  {
   "cell_type": "code",
   "execution_count": 308,
   "metadata": {},
   "outputs": [],
   "source": [
    "\n",
    "# Obter a paleta de cores \"rocket\" do Seaborn\n",
    "palette = [f'rgb({int(c[0]*255)},{int(c[1]*255)},{int(c[2]*255)})' for c in sns.color_palette(\"rocket\", len(area_data.columns))]\n",
    "\n",
    "# Criar o gráfico de área usando Plotly\n",
    "fig = go.Figure()\n",
    "\n",
    "for idx, rubrica in enumerate(area_data.columns):\n",
    "    fig.add_trace(go.Scatter(\n",
    "        x=area_data.index,\n",
    "        y=area_data[rubrica],\n",
    "        mode='lines',\n",
    "        line=dict(width=0.5, color=palette[idx]),\n",
    "        stackgroup='one',\n",
    "        name=rubrica,\n",
    "        fill='tonexty'\n",
    "    ))\n",
    "\n",
    "# Configurações de layout para dark mode\n",
    "fig.update_layout(\n",
    "    # title='Tendência Acumulada de Ocorrências por Tipo de Crime e Mês',\n",
    "    title_font=dict(size=24, color='white'),\n",
    "    xaxis_title='Mês',\n",
    "    yaxis_title='Contagem de Ocorrências',\n",
    "    font=dict(color='white'),\n",
    "    paper_bgcolor='#0E1117',\n",
    "    plot_bgcolor='#0E1117',\n",
    "    legend_title=dict(font=dict(color='white')),\n",
    "    xaxis=dict(showgrid=True, gridcolor='gray', tickmode='linear', dtick=1),\n",
    "    yaxis=dict(showgrid=True, gridcolor='gray'),\n",
    "    width=800,\n",
    "    height=600\n",
    ")\n",
    "\n",
    "# Save plot to HTML\n",
    "fig.write_html(\"../results/plot_trends.html\")\n"
   ]
  },
  {
   "cell_type": "markdown",
   "metadata": {},
   "source": [
    "### Verificar periodo do dia com mais crimes / horario do dia "
   ]
  },
  {
   "cell_type": "code",
   "execution_count": 77,
   "metadata": {},
   "outputs": [
    {
     "data": {
      "image/png": "[encoded data removed]",
      "text/plain": [
       "<Figure size 1000x1000 with 1 Axes>"
      ]
     },
     "metadata": {},
     "output_type": "display_data"
    }
   ],
   "source": [
    "dados_hora = dados.dropna(subset=['HORA_OCORRENCIA'])\n",
    "\n",
    "# Converter a coluna 'HORA_OCORRENCIA_BO' para o formato de hora\n",
    "dados_hora['HORA_OCORRENCIA'] = pd.to_datetime(dados_hora['HORA_OCORRENCIA'], format='%H:%M:%S').dt.hour\n",
    "\n",
    "# Agrupar os dados por hora e contar o número de ocorrências\n",
    "hour_counts = dados_hora['HORA_OCORRENCIA'].value_counts().sort_index()\n",
    "\n",
    "# Preparar os dados para o gráfico de barras polar\n",
    "labels = hour_counts.index\n",
    "values = hour_counts.values\n",
    "\n",
    "# Criação do gráfico de barras polar\n",
    "fig, ax = plt.subplots(figsize=(10, 10), subplot_kw=dict(polar=True))\n",
    "\n",
    "# Criação do ângulo para cada barra no sentido horário\n",
    "angles = np.linspace(0, 2 * np.pi, len(labels), endpoint=False).tolist()\n",
    "\n",
    "# Adicionar valores iniciais ao final para fechamento do gráfico\n",
    "values = np.concatenate((values, [values[0]]))\n",
    "angles += angles[:1]\n",
    "\n",
    "palette = sns.color_palette(\"rocket\", 1)\n",
    "# Plot das barras\n",
    "bars = ax.bar(angles[:-1], values[:-1], width=0.3, color=palette, edgecolor='black', alpha=0.7)\n",
    "\n",
    "# Ajuste dos rótulos para seguir a ordem do relógio\n",
    "ax.set_xticks(angles[:-1])\n",
    "ax.set_xticklabels([f'{int(label)}:00' for label in labels])\n",
    "\n",
    "# Rotacionar os labels para ficarem mais legíveis\n",
    "ax.tick_params(axis='x', which='major', pad=15)\n",
    "\n",
    "# Ajustar a posição do zero para o topo do gráfico e rotação para sentido horário\n",
    "ax.set_theta_zero_location('N')\n",
    "ax.set_theta_direction(-1)\n",
    "\n",
    "# Adicionar título\n",
    "# plt.title('Distribuição de Crimes por Hora do Dia (Polar Bar Chart)', fontsize=14)\n",
    "\n",
    "# Mostrar o gráfico\n",
    "plt.show()\n"
   ]
  },
  {
   "cell_type": "code",
   "execution_count": 96,
   "metadata": {},
   "outputs": [],
   "source": [
    "\n",
    "# Prepare data for polar bar chart\n",
    "labels = hour_counts.index\n",
    "values = hour_counts.values\n",
    "\n",
    "# Streamlit background color\n",
    "streamlit_bg_color = '#0E1117'\n",
    "\n",
    "# Create polar bar chart using Plotly\n",
    "fig = go.Figure()\n",
    "\n",
    "fig.add_trace(go.Barpolar(\n",
    "    r=values,\n",
    "    theta=labels * (360 / 24),  # Convert hour to degrees (0-360)\n",
    "    width=[360 / 24] * len(labels),\n",
    "    marker_color='rgb(106,81,163)',\n",
    "    marker_line_color=\"white\",\n",
    "    marker_line_width=2,\n",
    "    opacity=0.8\n",
    "))\n",
    "\n",
    "fig.update_layout(\n",
    "    # title='Distribuição de Crimes por Hora do Dia (Polar Bar Chart)',\n",
    "    title_font=dict(size=24, color='white'),\n",
    "    font=dict(size=18, color='white'),\n",
    "    polar=dict(\n",
    "        bgcolor=streamlit_bg_color,\n",
    "        radialaxis=dict(visible=True, range=[0, max(values) + 1], showticklabels=True, ticks='', gridcolor='white'),\n",
    "        angularaxis=dict(\n",
    "            tickvals=np.arange(0, 360, 360 / 24),\n",
    "            ticktext=[f'{int(label)}:00' for label in range(24)],\n",
    "            direction=\"clockwise\",  # Ensure clockwise direction\n",
    "            rotation=90,  # Ensure 0 is at the top\n",
    "            showticklabels=True,\n",
    "            ticks='',\n",
    "            gridcolor='white'\n",
    "        )\n",
    "    ),\n",
    "    paper_bgcolor=streamlit_bg_color,\n",
    "    plot_bgcolor=streamlit_bg_color,\n",
    "    width=600,\n",
    "    height=600,\n",
    "    showlegend=False\n",
    ")\n",
    "\n",
    "# Save plot to HTML\n",
    "fig.write_html(\"../results/polar_bar.html\")\n"
   ]
  },
  {
   "cell_type": "markdown",
   "metadata": {},
   "source": [
    "### Analise de correlação"
   ]
  },
  {
   "cell_type": "code",
   "execution_count": 27,
   "metadata": {},
   "outputs": [
    {
     "data": {
      "text/plain": [
       "Index(['ID_DELEGACIA', 'NOME_DEPARTAMENTO', 'NOME_SECCIONAL', 'NOME_DELEGACIA',\n",
       "       'NOME_MUNICIPIO', 'ANO_BO', 'NUM_BO', 'VERSAO',\n",
       "       'NOME_DEPARTAMENTO_CIRC', 'NOME_SECCIONAL_CIRC', 'NOME_DELEGACIA_CIRC',\n",
       "       'NOME_MUNICIPIO_CIRC', 'DATA_OCORRENCIA_BO', 'HORA_OCORRENCIA',\n",
       "       'DESCRICAO_APRESENTACAO', 'DATAHORA_REGISTRO_BO', 'DATA_COMUNICACAO_BO',\n",
       "       'DATAHORA_IMPRESSAO_BO', 'DESCR_PERIODO', 'AUTORIA_BO',\n",
       "       'FLAG_INTOLERANCIA', 'TIPO_INTOLERANCIA', 'FLAG_FLAGRANTE',\n",
       "       'FLAG_STATUS', 'DESC_LEI', 'FLAG_ATO_INFRACIONAL', 'RUBRICA',\n",
       "       'DESCR_CONDUTA', 'DESDOBRAMENTO', 'CIRCUNSTANCIA', 'DESCR_TIPOLOCAL',\n",
       "       'DESCR_SUBTIPOLOCAL', 'CIDADE', 'BAIRRO', 'CEP', 'LOGRADOURO_VERSAO',\n",
       "       'LOGRADOURO', 'NUMERO_LOGRADOURO', 'LATITUDE', 'LONGITUDE',\n",
       "       'CONT_OBJETO', 'DESCR_MODO_OBJETO', 'DESCR_TIPO_OBJETO',\n",
       "       'DESCR_SUBTIPO_OBJETO', 'DESCR_UNIDADE', 'QUANTIDADE_OBJETO',\n",
       "       'MARCA_OBJETO', 'FLAG_BLOQUEIO', 'FLAG_DESBLOQUEIO', 'MES', 'ANO',\n",
       "       'PERIODO_DO_DIA'],\n",
       "      dtype='object')"
      ]
     },
     "execution_count": 27,
     "metadata": {},
     "output_type": "execute_result"
    }
   ],
   "source": [
    "dados.columns"
   ]
  },
  {
   "cell_type": "code",
   "execution_count": 47,
   "metadata": {},
   "outputs": [],
   "source": [
    "# Converter colunas de data para datetime\n",
    "dados['DATA_COMUNICACAO_BO'] = pd.to_datetime(dados['DATA_COMUNICACAO_BO'])\n",
    "dados['DATA_OCORRENCIA_BO'] = pd.to_datetime(dados['DATA_OCORRENCIA_BO'])\n",
    "\n",
    "# Extrair partes da data para análise\n",
    "dados['ANO_COMUNICACAO'] = dados['DATA_COMUNICACAO_BO'].dt.year\n",
    "dados['MES_COMUNICACAO'] = dados['DATA_COMUNICACAO_BO'].dt.month\n",
    "dados['DIA_COMUNICACAO'] = dados['DATA_COMUNICACAO_BO'].dt.day\n",
    "dados['ANO_OCORRENCIA'] = dados['DATA_OCORRENCIA_BO'].dt.year\n",
    "dados['MES_OCORRENCIA'] = dados['DATA_OCORRENCIA_BO'].dt.month\n",
    "dados['DIA_OCORRENCIA'] = dados['DATA_OCORRENCIA_BO'].dt.day\n",
    "\n",
    "# Selecionar as colunas relevantes para correlação\n",
    "colunas_para_correlacao = [ \n",
    "                           'LATITUDE', 'LONGITUDE', \n",
    "                           'MES_COMUNICACAO', 'DIA_COMUNICACAO', 'MES_OCORRENCIA', 'DIA_OCORRENCIA']\n",
    "\n",
    "dados_numericos = dados[colunas_para_correlacao]\n",
    "dados_numericos\n",
    "# Calcular a matriz de correlação entre variáveis numéricas\n",
    "correlation_matrix = dados_numericos.corr().round(2)\n",
    "\n",
    "\n",
    "import plotly.figure_factory as ff\n",
    "\n",
    "fig = px.imshow(correlation_matrix,\n",
    "                text_auto=True,\n",
    "                aspect=\"auto\",\n",
    "                color_continuous_scale='Viridis',\n",
    "                labels=dict(color='Correlação'),\n",
    "                title='Matriz de Correlação')\n",
    "\n",
    "# Ajustar a aparência para modo escuro\n",
    "fig.update_layout(\n",
    "    title_x=0.5,\n",
    "    paper_bgcolor='rgb(14, 17, 23)',\n",
    "    plot_bgcolor='rgb(14, 17, 23)',\n",
    "    font=dict(color='white')\n",
    ")\n",
    "\n",
    "html_file_path = \"../results/matriz_correlacao.html\"\n",
    "pio.write_html(fig, file=html_file_path, auto_open=False)\n",
    "\n",
    "# # # Plotar o heatmap da matriz de correlação\n",
    "# plt.figure(figsize=(10, 8))\n",
    "\n",
    "# heatmap = sns.heatmap(correlation_matrix, annot=True, cmap='coolwarm')\n",
    "# # plt.title('Matriz de Correlação')\n",
    "# import mpld3\n",
    "\n",
    "# html_str = mpld3.fig_to_html(heatmap.get_figure())\n",
    "# with open(\"../results/matriz_correlacao.html\", \"w\") as f:\n",
    "#     f.write(html_str)\n",
    "# plt.show()\n"
   ]
  },
  {
   "cell_type": "markdown",
   "metadata": {},
   "source": [
    "### Marcas"
   ]
  },
  {
   "cell_type": "code",
   "execution_count": 150,
   "metadata": {},
   "outputs": [
    {
     "data": {
      "application/vnd.plotly.v1+json": {
       "config": {
        "plotlyServerURL": "https://plot.ly"
       },
       "data": [
        {
         "hoverinfo": "x+y",
         "marker": {
          "color": [
           "#251433",
           "#4c1d4b",
           "#751f58",
           "#a11a5b",
           "#cb1b4f",
           "#e83f3f",
           "#f3714d",
           "#f69c73",
           "#f7c6a6"
          ]
         },
         "type": "bar",
         "x": [
          "Samsung",
          "Apple",
          "Motorola",
          "Xiaomi",
          "Outros",
          "LG",
          "Asus",
          "Multilaser",
          "Positivo"
         ],
         "y": [
          42.45476271765107,
          22.07237965175828,
          20.94571526118129,
          9.03038579720041,
          2.9361556845339707,
          1.6217138955274837,
          0.5633321952884944,
          0.18777739842949812,
          0.18777739842949812
         ]
        }
       ],
       "layout": {
        "template": {
         "data": {
          "bar": [
           {
            "error_x": {
             "color": "#2a3f5f"
            },
            "error_y": {
             "color": "#2a3f5f"
            },
            "marker": {
             "line": {
              "color": "#E5ECF6",
              "width": 0.5
             },
             "pattern": {
              "fillmode": "overlay",
              "size": 10,
              "solidity": 0.2
             }
            },
            "type": "bar"
           }
          ],
          "barpolar": [
           {
            "marker": {
             "line": {
              "color": "#E5ECF6",
              "width": 0.5
             },
             "pattern": {
              "fillmode": "overlay",
              "size": 10,
              "solidity": 0.2
             }
            },
            "type": "barpolar"
           }
          ],
          "carpet": [
           {
            "aaxis": {
             "endlinecolor": "#2a3f5f",
             "gridcolor": "white",
             "linecolor": "white",
             "minorgridcolor": "white",
             "startlinecolor": "#2a3f5f"
            },
            "baxis": {
             "endlinecolor": "#2a3f5f",
             "gridcolor": "white",
             "linecolor": "white",
             "minorgridcolor": "white",
             "startlinecolor": "#2a3f5f"
            },
            "type": "carpet"
           }
          ],
          "choropleth": [
           {
            "colorbar": {
             "outlinewidth": 0,
             "ticks": ""
            },
            "type": "choropleth"
           }
          ],
          "contour": [
           {
            "colorbar": {
             "outlinewidth": 0,
             "ticks": ""
            },
            "colorscale": [
             [
              0,
              "#0d0887"
             ],
             [
              0.1111111111111111,
              "#46039f"
             ],
             [
              0.2222222222222222,
              "#7201a8"
             ],
             [
              0.3333333333333333,
              "#9c179e"
             ],
             [
              0.4444444444444444,
              "#bd3786"
             ],
             [
              0.5555555555555556,
              "#d8576b"
             ],
             [
              0.6666666666666666,
              "#ed7953"
             ],
             [
              0.7777777777777778,
              "#fb9f3a"
             ],
             [
              0.8888888888888888,
              "#fdca26"
             ],
             [
              1,
              "#f0f921"
             ]
            ],
            "type": "contour"
           }
          ],
          "contourcarpet": [
           {
            "colorbar": {
             "outlinewidth": 0,
             "ticks": ""
            },
            "type": "contourcarpet"
           }
          ],
          "heatmap": [
           {
            "colorbar": {
             "outlinewidth": 0,
             "ticks": ""
            },
            "colorscale": [
             [
              0,
              "#0d0887"
             ],
             [
              0.1111111111111111,
              "#46039f"
             ],
             [
              0.2222222222222222,
              "#7201a8"
             ],
             [
              0.3333333333333333,
              "#9c179e"
             ],
             [
              0.4444444444444444,
              "#bd3786"
             ],
             [
              0.5555555555555556,
              "#d8576b"
             ],
             [
              0.6666666666666666,
              "#ed7953"
             ],
             [
              0.7777777777777778,
              "#fb9f3a"
             ],
             [
              0.8888888888888888,
              "#fdca26"
             ],
             [
              1,
              "#f0f921"
             ]
            ],
            "type": "heatmap"
           }
          ],
          "heatmapgl": [
           {
            "colorbar": {
             "outlinewidth": 0,
             "ticks": ""
            },
            "colorscale": [
             [
              0,
              "#0d0887"
             ],
             [
              0.1111111111111111,
              "#46039f"
             ],
             [
              0.2222222222222222,
              "#7201a8"
             ],
             [
              0.3333333333333333,
              "#9c179e"
             ],
             [
              0.4444444444444444,
              "#bd3786"
             ],
             [
              0.5555555555555556,
              "#d8576b"
             ],
             [
              0.6666666666666666,
              "#ed7953"
             ],
             [
              0.7777777777777778,
              "#fb9f3a"
             ],
             [
              0.8888888888888888,
              "#fdca26"
             ],
             [
              1,
              "#f0f921"
             ]
            ],
            "type": "heatmapgl"
           }
          ],
          "histogram": [
           {
            "marker": {
             "pattern": {
              "fillmode": "overlay",
              "size": 10,
              "solidity": 0.2
             }
            },
            "type": "histogram"
           }
          ],
          "histogram2d": [
           {
            "colorbar": {
             "outlinewidth": 0,
             "ticks": ""
            },
            "colorscale": [
             [
              0,
              "#0d0887"
             ],
             [
              0.1111111111111111,
              "#46039f"
             ],
             [
              0.2222222222222222,
              "#7201a8"
             ],
             [
              0.3333333333333333,
              "#9c179e"
             ],
             [
              0.4444444444444444,
              "#bd3786"
             ],
             [
              0.5555555555555556,
              "#d8576b"
             ],
             [
              0.6666666666666666,
              "#ed7953"
             ],
             [
              0.7777777777777778,
              "#fb9f3a"
             ],
             [
              0.8888888888888888,
              "#fdca26"
             ],
             [
              1,
              "#f0f921"
             ]
            ],
            "type": "histogram2d"
           }
          ],
          "histogram2dcontour": [
           {
            "colorbar": {
             "outlinewidth": 0,
             "ticks": ""
            },
            "colorscale": [
             [
              0,
              "#0d0887"
             ],
             [
              0.1111111111111111,
              "#46039f"
             ],
             [
              0.2222222222222222,
              "#7201a8"
             ],
             [
              0.3333333333333333,
              "#9c179e"
             ],
             [
              0.4444444444444444,
              "#bd3786"
             ],
             [
              0.5555555555555556,
              "#d8576b"
             ],
             [
              0.6666666666666666,
              "#ed7953"
             ],
             [
              0.7777777777777778,
              "#fb9f3a"
             ],
             [
              0.8888888888888888,
              "#fdca26"
             ],
             [
              1,
              "#f0f921"
             ]
            ],
            "type": "histogram2dcontour"
           }
          ],
          "mesh3d": [
           {
            "colorbar": {
             "outlinewidth": 0,
             "ticks": ""
            },
            "type": "mesh3d"
           }
          ],
          "parcoords": [
           {
            "line": {
             "colorbar": {
              "outlinewidth": 0,
              "ticks": ""
             }
            },
            "type": "parcoords"
           }
          ],
          "pie": [
           {
            "automargin": true,
            "type": "pie"
           }
          ],
          "scatter": [
           {
            "fillpattern": {
             "fillmode": "overlay",
             "size": 10,
             "solidity": 0.2
            },
            "type": "scatter"
           }
          ],
          "scatter3d": [
           {
            "line": {
             "colorbar": {
              "outlinewidth": 0,
              "ticks": ""
             }
            },
            "marker": {
             "colorbar": {
              "outlinewidth": 0,
              "ticks": ""
             }
            },
            "type": "scatter3d"
           }
          ],
          "scattercarpet": [
           {
            "marker": {
             "colorbar": {
              "outlinewidth": 0,
              "ticks": ""
             }
            },
            "type": "scattercarpet"
           }
          ],
          "scattergeo": [
           {
            "marker": {
             "colorbar": {
              "outlinewidth": 0,
              "ticks": ""
             }
            },
            "type": "scattergeo"
           }
          ],
          "scattergl": [
           {
            "marker": {
             "colorbar": {
              "outlinewidth": 0,
              "ticks": ""
             }
            },
            "type": "scattergl"
           }
          ],
          "scattermapbox": [
           {
            "marker": {
             "colorbar": {
              "outlinewidth": 0,
              "ticks": ""
             }
            },
            "type": "scattermapbox"
           }
          ],
          "scatterpolar": [
           {
            "marker": {
             "colorbar": {
              "outlinewidth": 0,
              "ticks": ""
             }
            },
            "type": "scatterpolar"
           }
          ],
          "scatterpolargl": [
           {
            "marker": {
             "colorbar": {
              "outlinewidth": 0,
              "ticks": ""
             }
            },
            "type": "scatterpolargl"
           }
          ],
          "scatterternary": [
           {
            "marker": {
             "colorbar": {
              "outlinewidth": 0,
              "ticks": ""
             }
            },
            "type": "scatterternary"
           }
          ],
          "surface": [
           {
            "colorbar": {
             "outlinewidth": 0,
             "ticks": ""
            },
            "colorscale": [
             [
              0,
              "#0d0887"
             ],
             [
              0.1111111111111111,
              "#46039f"
             ],
             [
              0.2222222222222222,
              "#7201a8"
             ],
             [
              0.3333333333333333,
              "#9c179e"
             ],
             [
              0.4444444444444444,
              "#bd3786"
             ],
             [
              0.5555555555555556,
              "#d8576b"
             ],
             [
              0.6666666666666666,
              "#ed7953"
             ],
             [
              0.7777777777777778,
              "#fb9f3a"
             ],
             [
              0.8888888888888888,
              "#fdca26"
             ],
             [
              1,
              "#f0f921"
             ]
            ],
            "type": "surface"
           }
          ],
          "table": [
           {
            "cells": {
             "fill": {
              "color": "#EBF0F8"
             },
             "line": {
              "color": "white"
             }
            },
            "header": {
             "fill": {
              "color": "#C8D4E3"
             },
             "line": {
              "color": "white"
             }
            },
            "type": "table"
           }
          ]
         },
         "layout": {
          "annotationdefaults": {
           "arrowcolor": "#2a3f5f",
           "arrowhead": 0,
           "arrowwidth": 1
          },
          "autotypenumbers": "strict",
          "coloraxis": {
           "colorbar": {
            "outlinewidth": 0,
            "ticks": ""
           }
          },
          "colorscale": {
           "diverging": [
            [
             0,
             "#8e0152"
            ],
            [
             0.1,
             "#c51b7d"
            ],
            [
             0.2,
             "#de77ae"
            ],
            [
             0.3,
             "#f1b6da"
            ],
            [
             0.4,
             "#fde0ef"
            ],
            [
             0.5,
             "#f7f7f7"
            ],
            [
             0.6,
             "#e6f5d0"
            ],
            [
             0.7,
             "#b8e186"
            ],
            [
             0.8,
             "#7fbc41"
            ],
            [
             0.9,
             "#4d9221"
            ],
            [
             1,
             "#276419"
            ]
           ],
           "sequential": [
            [
             0,
             "#0d0887"
            ],
            [
             0.1111111111111111,
             "#46039f"
            ],
            [
             0.2222222222222222,
             "#7201a8"
            ],
            [
             0.3333333333333333,
             "#9c179e"
            ],
            [
             0.4444444444444444,
             "#bd3786"
            ],
            [
             0.5555555555555556,
             "#d8576b"
            ],
            [
             0.6666666666666666,
             "#ed7953"
            ],
            [
             0.7777777777777778,
             "#fb9f3a"
            ],
            [
             0.8888888888888888,
             "#fdca26"
            ],
            [
             1,
             "#f0f921"
            ]
           ],
           "sequentialminus": [
            [
             0,
             "#0d0887"
            ],
            [
             0.1111111111111111,
             "#46039f"
            ],
            [
             0.2222222222222222,
             "#7201a8"
            ],
            [
             0.3333333333333333,
             "#9c179e"
            ],
            [
             0.4444444444444444,
             "#bd3786"
            ],
            [
             0.5555555555555556,
             "#d8576b"
            ],
            [
             0.6666666666666666,
             "#ed7953"
            ],
            [
             0.7777777777777778,
             "#fb9f3a"
            ],
            [
             0.8888888888888888,
             "#fdca26"
            ],
            [
             1,
             "#f0f921"
            ]
           ]
          },
          "colorway": [
           "#636efa",
           "#EF553B",
           "#00cc96",
           "#ab63fa",
           "#FFA15A",
           "#19d3f3",
           "#FF6692",
           "#B6E880",
           "#FF97FF",
           "#FECB52"
          ],
          "font": {
           "color": "#2a3f5f"
          },
          "geo": {
           "bgcolor": "white",
           "lakecolor": "white",
           "landcolor": "#E5ECF6",
           "showlakes": true,
           "showland": true,
           "subunitcolor": "white"
          },
          "hoverlabel": {
           "align": "left"
          },
          "hovermode": "closest",
          "mapbox": {
           "style": "light"
          },
          "paper_bgcolor": "white",
          "plot_bgcolor": "#E5ECF6",
          "polar": {
           "angularaxis": {
            "gridcolor": "white",
            "linecolor": "white",
            "ticks": ""
           },
           "bgcolor": "#E5ECF6",
           "radialaxis": {
            "gridcolor": "white",
            "linecolor": "white",
            "ticks": ""
           }
          },
          "scene": {
           "xaxis": {
            "backgroundcolor": "#E5ECF6",
            "gridcolor": "white",
            "gridwidth": 2,
            "linecolor": "white",
            "showbackground": true,
            "ticks": "",
            "zerolinecolor": "white"
           },
           "yaxis": {
            "backgroundcolor": "#E5ECF6",
            "gridcolor": "white",
            "gridwidth": 2,
            "linecolor": "white",
            "showbackground": true,
            "ticks": "",
            "zerolinecolor": "white"
           },
           "zaxis": {
            "backgroundcolor": "#E5ECF6",
            "gridcolor": "white",
            "gridwidth": 2,
            "linecolor": "white",
            "showbackground": true,
            "ticks": "",
            "zerolinecolor": "white"
           }
          },
          "shapedefaults": {
           "line": {
            "color": "#2a3f5f"
           }
          },
          "ternary": {
           "aaxis": {
            "gridcolor": "white",
            "linecolor": "white",
            "ticks": ""
           },
           "baxis": {
            "gridcolor": "white",
            "linecolor": "white",
            "ticks": ""
           },
           "bgcolor": "#E5ECF6",
           "caxis": {
            "gridcolor": "white",
            "linecolor": "white",
            "ticks": ""
           }
          },
          "title": {
           "x": 0.05
          },
          "xaxis": {
           "automargin": true,
           "gridcolor": "white",
           "linecolor": "white",
           "ticks": "",
           "title": {
            "standoff": 15
           },
           "zerolinecolor": "white",
           "zerolinewidth": 2
          },
          "yaxis": {
           "automargin": true,
           "gridcolor": "white",
           "linecolor": "white",
           "ticks": "",
           "title": {
            "standoff": 15
           },
           "zerolinecolor": "white",
           "zerolinewidth": 2
          }
         }
        },
        "title": {
         "text": "Marca dos celulares com maior frequência de furto e roubos.",
         "x": 0.5
        },
        "xaxis": {
         "tickangle": -45,
         "title": {
          "text": "Marca"
         }
        },
        "yaxis": {
         "title": {
          "text": "Porcentagem"
         }
        }
       }
      }
     },
     "metadata": {},
     "output_type": "display_data"
    }
   ],
   "source": [
    "import plotly.graph_objects as go\n",
    "import seaborn as sns\n",
    "\n",
    "# Supondo que df_roubo_ribp seja seu DataFrame\n",
    "counts = dados[\"MARCA_OBJETO\"].value_counts()\n",
    "\n",
    "# Definir a quantidade mínima para consideração\n",
    "quantidade_minima = 10\n",
    "\n",
    "# Filtrar counts para incluir apenas marcas com pelo menos quantidade_minima ocorrências\n",
    "counts_filtrado = counts[counts >= quantidade_minima]\n",
    "\n",
    "total = counts_filtrado.sum()\n",
    "\n",
    "# Calcular as porcentagens\n",
    "porcentagens = (counts_filtrado / total) * 100\n",
    "\n",
    "# Obter a paleta de cores \"rocket\" do Seaborn\n",
    "colors = sns.color_palette(\"rocket\", len(porcentagens)).as_hex()\n",
    "\n",
    "# Criar um gráfico de barras interativo com Plotly\n",
    "fig = go.Figure()\n",
    "\n",
    "fig.add_trace(go.Bar(\n",
    "    x=porcentagens.index,\n",
    "    y=porcentagens.values,\n",
    "    hoverinfo='x+y',  # Informações que aparecerão ao passar o mouse\n",
    "    marker=dict(color=colors)\n",
    "))\n",
    "\n",
    "fig.update_layout(\n",
    "    title={'text':'Marca dos celulares com maior frequência de furto e roubos.','x':0.5},\n",
    "    xaxis_title='Marca',\n",
    "    yaxis_title='Porcentagem',\n",
    "    xaxis_tickangle=-45  # Rotacionar rótulos do eixo x para melhor legibilidade\n",
    ")\n",
    "\n",
    "fig.show()\n"
   ]
  },
  {
   "cell_type": "code",
   "execution_count": 186,
   "metadata": {},
   "outputs": [
    {
     "data": {
      "text/plain": [
       "MARCA_OBJETO\n",
       "Samsung       1106\n",
       "Apple          625\n",
       "Motorola       512\n",
       "Xiaomi         221\n",
       "Outros          88\n",
       "LG              37\n",
       "Asus            17\n",
       "Multilaser       5\n",
       "Nokia            4\n",
       "Positivo         3\n",
       "Alcatel          3\n",
       "Huawei           2\n",
       "Lenovo           1\n",
       "Sony             1\n",
       "Microsoft        1\n",
       "Name: count, dtype: int64"
      ]
     },
     "execution_count": 186,
     "metadata": {},
     "output_type": "execute_result"
    }
   ],
   "source": [
    "counts = dados[\"MARCA_OBJETO\"].value_counts()\n",
    "counts \n"
   ]
  },
  {
   "cell_type": "code",
   "execution_count": 190,
   "metadata": {},
   "outputs": [
    {
     "data": {
      "application/vnd.plotly.v1+json": {
       "config": {
        "plotlyServerURL": "https://plot.ly"
       },
       "data": [
        {
         "hoverinfo": "x+y",
         "marker": {
          "color": [
           "#3f1b43",
           "#841e5a",
           "#cb1b4f",
           "#f06043",
           "#f6ab83"
          ]
         },
         "type": "bar",
         "x": [
          "Samsung",
          "Apple",
          "Motorola",
          "Xiaomi",
          "Outros"
         ],
         "y": [
          42.440521872601686,
          23.983115886415963,
          19.646968534151956,
          8.480429777436685,
          5.448963929393707
         ]
        }
       ],
       "layout": {
        "template": {
         "data": {
          "bar": [
           {
            "error_x": {
             "color": "#2a3f5f"
            },
            "error_y": {
             "color": "#2a3f5f"
            },
            "marker": {
             "line": {
              "color": "#E5ECF6",
              "width": 0.5
             },
             "pattern": {
              "fillmode": "overlay",
              "size": 10,
              "solidity": 0.2
             }
            },
            "type": "bar"
           }
          ],
          "barpolar": [
           {
            "marker": {
             "line": {
              "color": "#E5ECF6",
              "width": 0.5
             },
             "pattern": {
              "fillmode": "overlay",
              "size": 10,
              "solidity": 0.2
             }
            },
            "type": "barpolar"
           }
          ],
          "carpet": [
           {
            "aaxis": {
             "endlinecolor": "#2a3f5f",
             "gridcolor": "white",
             "linecolor": "white",
             "minorgridcolor": "white",
             "startlinecolor": "#2a3f5f"
            },
            "baxis": {
             "endlinecolor": "#2a3f5f",
             "gridcolor": "white",
             "linecolor": "white",
             "minorgridcolor": "white",
             "startlinecolor": "#2a3f5f"
            },
            "type": "carpet"
           }
          ],
          "choropleth": [
           {
            "colorbar": {
             "outlinewidth": 0,
             "ticks": ""
            },
            "type": "choropleth"
           }
          ],
          "contour": [
           {
            "colorbar": {
             "outlinewidth": 0,
             "ticks": ""
            },
            "colorscale": [
             [
              0,
              "#0d0887"
             ],
             [
              0.1111111111111111,
              "#46039f"
             ],
             [
              0.2222222222222222,
              "#7201a8"
             ],
             [
              0.3333333333333333,
              "#9c179e"
             ],
             [
              0.4444444444444444,
              "#bd3786"
             ],
             [
              0.5555555555555556,
              "#d8576b"
             ],
             [
              0.6666666666666666,
              "#ed7953"
             ],
             [
              0.7777777777777778,
              "#fb9f3a"
             ],
             [
              0.8888888888888888,
              "#fdca26"
             ],
             [
              1,
              "#f0f921"
             ]
            ],
            "type": "contour"
           }
          ],
          "contourcarpet": [
           {
            "colorbar": {
             "outlinewidth": 0,
             "ticks": ""
            },
            "type": "contourcarpet"
           }
          ],
          "heatmap": [
           {
            "colorbar": {
             "outlinewidth": 0,
             "ticks": ""
            },
            "colorscale": [
             [
              0,
              "#0d0887"
             ],
             [
              0.1111111111111111,
              "#46039f"
             ],
             [
              0.2222222222222222,
              "#7201a8"
             ],
             [
              0.3333333333333333,
              "#9c179e"
             ],
             [
              0.4444444444444444,
              "#bd3786"
             ],
             [
              0.5555555555555556,
              "#d8576b"
             ],
             [
              0.6666666666666666,
              "#ed7953"
             ],
             [
              0.7777777777777778,
              "#fb9f3a"
             ],
             [
              0.8888888888888888,
              "#fdca26"
             ],
             [
              1,
              "#f0f921"
             ]
            ],
            "type": "heatmap"
           }
          ],
          "heatmapgl": [
           {
            "colorbar": {
             "outlinewidth": 0,
             "ticks": ""
            },
            "colorscale": [
             [
              0,
              "#0d0887"
             ],
             [
              0.1111111111111111,
              "#46039f"
             ],
             [
              0.2222222222222222,
              "#7201a8"
             ],
             [
              0.3333333333333333,
              "#9c179e"
             ],
             [
              0.4444444444444444,
              "#bd3786"
             ],
             [
              0.5555555555555556,
              "#d8576b"
             ],
             [
              0.6666666666666666,
              "#ed7953"
             ],
             [
              0.7777777777777778,
              "#fb9f3a"
             ],
             [
              0.8888888888888888,
              "#fdca26"
             ],
             [
              1,
              "#f0f921"
             ]
            ],
            "type": "heatmapgl"
           }
          ],
          "histogram": [
           {
            "marker": {
             "pattern": {
              "fillmode": "overlay",
              "size": 10,
              "solidity": 0.2
             }
            },
            "type": "histogram"
           }
          ],
          "histogram2d": [
           {
            "colorbar": {
             "outlinewidth": 0,
             "ticks": ""
            },
            "colorscale": [
             [
              0,
              "#0d0887"
             ],
             [
              0.1111111111111111,
              "#46039f"
             ],
             [
              0.2222222222222222,
              "#7201a8"
             ],
             [
              0.3333333333333333,
              "#9c179e"
             ],
             [
              0.4444444444444444,
              "#bd3786"
             ],
             [
              0.5555555555555556,
              "#d8576b"
             ],
             [
              0.6666666666666666,
              "#ed7953"
             ],
             [
              0.7777777777777778,
              "#fb9f3a"
             ],
             [
              0.8888888888888888,
              "#fdca26"
             ],
             [
              1,
              "#f0f921"
             ]
            ],
            "type": "histogram2d"
           }
          ],
          "histogram2dcontour": [
           {
            "colorbar": {
             "outlinewidth": 0,
             "ticks": ""
            },
            "colorscale": [
             [
              0,
              "#0d0887"
             ],
             [
              0.1111111111111111,
              "#46039f"
             ],
             [
              0.2222222222222222,
              "#7201a8"
             ],
             [
              0.3333333333333333,
              "#9c179e"
             ],
             [
              0.4444444444444444,
              "#bd3786"
             ],
             [
              0.5555555555555556,
              "#d8576b"
             ],
             [
              0.6666666666666666,
              "#ed7953"
             ],
             [
              0.7777777777777778,
              "#fb9f3a"
             ],
             [
              0.8888888888888888,
              "#fdca26"
             ],
             [
              1,
              "#f0f921"
             ]
            ],
            "type": "histogram2dcontour"
           }
          ],
          "mesh3d": [
           {
            "colorbar": {
             "outlinewidth": 0,
             "ticks": ""
            },
            "type": "mesh3d"
           }
          ],
          "parcoords": [
           {
            "line": {
             "colorbar": {
              "outlinewidth": 0,
              "ticks": ""
             }
            },
            "type": "parcoords"
           }
          ],
          "pie": [
           {
            "automargin": true,
            "type": "pie"
           }
          ],
          "scatter": [
           {
            "fillpattern": {
             "fillmode": "overlay",
             "size": 10,
             "solidity": 0.2
            },
            "type": "scatter"
           }
          ],
          "scatter3d": [
           {
            "line": {
             "colorbar": {
              "outlinewidth": 0,
              "ticks": ""
             }
            },
            "marker": {
             "colorbar": {
              "outlinewidth": 0,
              "ticks": ""
             }
            },
            "type": "scatter3d"
           }
          ],
          "scattercarpet": [
           {
            "marker": {
             "colorbar": {
              "outlinewidth": 0,
              "ticks": ""
             }
            },
            "type": "scattercarpet"
           }
          ],
          "scattergeo": [
           {
            "marker": {
             "colorbar": {
              "outlinewidth": 0,
              "ticks": ""
             }
            },
            "type": "scattergeo"
           }
          ],
          "scattergl": [
           {
            "marker": {
             "colorbar": {
              "outlinewidth": 0,
              "ticks": ""
             }
            },
            "type": "scattergl"
           }
          ],
          "scattermapbox": [
           {
            "marker": {
             "colorbar": {
              "outlinewidth": 0,
              "ticks": ""
             }
            },
            "type": "scattermapbox"
           }
          ],
          "scatterpolar": [
           {
            "marker": {
             "colorbar": {
              "outlinewidth": 0,
              "ticks": ""
             }
            },
            "type": "scatterpolar"
           }
          ],
          "scatterpolargl": [
           {
            "marker": {
             "colorbar": {
              "outlinewidth": 0,
              "ticks": ""
             }
            },
            "type": "scatterpolargl"
           }
          ],
          "scatterternary": [
           {
            "marker": {
             "colorbar": {
              "outlinewidth": 0,
              "ticks": ""
             }
            },
            "type": "scatterternary"
           }
          ],
          "surface": [
           {
            "colorbar": {
             "outlinewidth": 0,
             "ticks": ""
            },
            "colorscale": [
             [
              0,
              "#0d0887"
             ],
             [
              0.1111111111111111,
              "#46039f"
             ],
             [
              0.2222222222222222,
              "#7201a8"
             ],
             [
              0.3333333333333333,
              "#9c179e"
             ],
             [
              0.4444444444444444,
              "#bd3786"
             ],
             [
              0.5555555555555556,
              "#d8576b"
             ],
             [
              0.6666666666666666,
              "#ed7953"
             ],
             [
              0.7777777777777778,
              "#fb9f3a"
             ],
             [
              0.8888888888888888,
              "#fdca26"
             ],
             [
              1,
              "#f0f921"
             ]
            ],
            "type": "surface"
           }
          ],
          "table": [
           {
            "cells": {
             "fill": {
              "color": "#EBF0F8"
             },
             "line": {
              "color": "white"
             }
            },
            "header": {
             "fill": {
              "color": "#C8D4E3"
             },
             "line": {
              "color": "white"
             }
            },
            "type": "table"
           }
          ]
         },
         "layout": {
          "annotationdefaults": {
           "arrowcolor": "#2a3f5f",
           "arrowhead": 0,
           "arrowwidth": 1
          },
          "autotypenumbers": "strict",
          "coloraxis": {
           "colorbar": {
            "outlinewidth": 0,
            "ticks": ""
           }
          },
          "colorscale": {
           "diverging": [
            [
             0,
             "#8e0152"
            ],
            [
             0.1,
             "#c51b7d"
            ],
            [
             0.2,
             "#de77ae"
            ],
            [
             0.3,
             "#f1b6da"
            ],
            [
             0.4,
             "#fde0ef"
            ],
            [
             0.5,
             "#f7f7f7"
            ],
            [
             0.6,
             "#e6f5d0"
            ],
            [
             0.7,
             "#b8e186"
            ],
            [
             0.8,
             "#7fbc41"
            ],
            [
             0.9,
             "#4d9221"
            ],
            [
             1,
             "#276419"
            ]
           ],
           "sequential": [
            [
             0,
             "#0d0887"
            ],
            [
             0.1111111111111111,
             "#46039f"
            ],
            [
             0.2222222222222222,
             "#7201a8"
            ],
            [
             0.3333333333333333,
             "#9c179e"
            ],
            [
             0.4444444444444444,
             "#bd3786"
            ],
            [
             0.5555555555555556,
             "#d8576b"
            ],
            [
             0.6666666666666666,
             "#ed7953"
            ],
            [
             0.7777777777777778,
             "#fb9f3a"
            ],
            [
             0.8888888888888888,
             "#fdca26"
            ],
            [
             1,
             "#f0f921"
            ]
           ],
           "sequentialminus": [
            [
             0,
             "#0d0887"
            ],
            [
             0.1111111111111111,
             "#46039f"
            ],
            [
             0.2222222222222222,
             "#7201a8"
            ],
            [
             0.3333333333333333,
             "#9c179e"
            ],
            [
             0.4444444444444444,
             "#bd3786"
            ],
            [
             0.5555555555555556,
             "#d8576b"
            ],
            [
             0.6666666666666666,
             "#ed7953"
            ],
            [
             0.7777777777777778,
             "#fb9f3a"
            ],
            [
             0.8888888888888888,
             "#fdca26"
            ],
            [
             1,
             "#f0f921"
            ]
           ]
          },
          "colorway": [
           "#636efa",
           "#EF553B",
           "#00cc96",
           "#ab63fa",
           "#FFA15A",
           "#19d3f3",
           "#FF6692",
           "#B6E880",
           "#FF97FF",
           "#FECB52"
          ],
          "font": {
           "color": "#2a3f5f"
          },
          "geo": {
           "bgcolor": "white",
           "lakecolor": "white",
           "landcolor": "#E5ECF6",
           "showlakes": true,
           "showland": true,
           "subunitcolor": "white"
          },
          "hoverlabel": {
           "align": "left"
          },
          "hovermode": "closest",
          "mapbox": {
           "style": "light"
          },
          "paper_bgcolor": "white",
          "plot_bgcolor": "#E5ECF6",
          "polar": {
           "angularaxis": {
            "gridcolor": "white",
            "linecolor": "white",
            "ticks": ""
           },
           "bgcolor": "#E5ECF6",
           "radialaxis": {
            "gridcolor": "white",
            "linecolor": "white",
            "ticks": ""
           }
          },
          "scene": {
           "xaxis": {
            "backgroundcolor": "#E5ECF6",
            "gridcolor": "white",
            "gridwidth": 2,
            "linecolor": "white",
            "showbackground": true,
            "ticks": "",
            "zerolinecolor": "white"
           },
           "yaxis": {
            "backgroundcolor": "#E5ECF6",
            "gridcolor": "white",
            "gridwidth": 2,
            "linecolor": "white",
            "showbackground": true,
            "ticks": "",
            "zerolinecolor": "white"
           },
           "zaxis": {
            "backgroundcolor": "#E5ECF6",
            "gridcolor": "white",
            "gridwidth": 2,
            "linecolor": "white",
            "showbackground": true,
            "ticks": "",
            "zerolinecolor": "white"
           }
          },
          "shapedefaults": {
           "line": {
            "color": "#2a3f5f"
           }
          },
          "ternary": {
           "aaxis": {
            "gridcolor": "white",
            "linecolor": "white",
            "ticks": ""
           },
           "baxis": {
            "gridcolor": "white",
            "linecolor": "white",
            "ticks": ""
           },
           "bgcolor": "#E5ECF6",
           "caxis": {
            "gridcolor": "white",
            "linecolor": "white",
            "ticks": ""
           }
          },
          "title": {
           "x": 0.05
          },
          "xaxis": {
           "automargin": true,
           "gridcolor": "white",
           "linecolor": "white",
           "ticks": "",
           "title": {
            "standoff": 15
           },
           "zerolinecolor": "white",
           "zerolinewidth": 2
          },
          "yaxis": {
           "automargin": true,
           "gridcolor": "white",
           "linecolor": "white",
           "ticks": "",
           "title": {
            "standoff": 15
           },
           "zerolinecolor": "white",
           "zerolinewidth": 2
          }
         }
        },
        "title": {
         "text": "Marca dos celulares com maior frequência de furto e roubos",
         "x": 0.5
        },
        "xaxis": {
         "tickangle": -45,
         "title": {
          "text": "Marca"
         }
        },
        "yaxis": {
         "title": {
          "text": "Porcentagem"
         }
        }
       }
      }
     },
     "metadata": {},
     "output_type": "display_data"
    }
   ],
   "source": [
    "import pandas as pd\n",
    "import seaborn as sns\n",
    "import plotly.graph_objects as go\n",
    "\n",
    "# Supondo que 'dados' seja o DataFrame original\n",
    "# Contando a frequência das marcas de objetos\n",
    "counts = dados[\"MARCA_OBJETO\"].value_counts()\n",
    "\n",
    "top_4 = counts_filtrado.nlargest(4)\n",
    "outros = counts_filtrado[counts_filtrado < counts_filtrado.nlargest(4).min()].sum()\n",
    "top_5 = pd.concat([top_4, pd.Series(outros, index=['Outros'])])\n",
    "\n",
    "# Calcular o total para obter as porcentagens\n",
    "total = top_5.sum()\n",
    "\n",
    "# Calcular as porcentagens\n",
    "porcentagens = (top_5 / total) * 100\n",
    "\n",
    "# Obter a paleta de cores \"rocket\" do Seaborn\n",
    "colors = sns.color_palette(\"rocket\", len(porcentagens)).as_hex()\n",
    "\n",
    "# Criar um gráfico de barras interativo com Plotly\n",
    "fig = go.Figure()\n",
    "\n",
    "fig.add_trace(go.Bar(\n",
    "    x=porcentagens.index,\n",
    "    y=porcentagens.values,\n",
    "    hoverinfo='x+y',  # Informações que aparecerão ao passar o mouse\n",
    "    marker=dict(color=colors)\n",
    "))\n",
    "\n",
    "fig.update_layout(\n",
    "    title={'text':'Marca dos celulares com maior frequência de furto e roubos','x':0.5},\n",
    "    xaxis_title='Marca',\n",
    "    yaxis_title='Porcentagem',\n",
    "    xaxis_tickangle=-45  # Rotacionar rótulos do eixo x para melhor legibilidade\n",
    ")\n",
    "\n",
    "fig.show()\n"
   ]
  },
  {
   "cell_type": "code",
   "execution_count": 193,
   "metadata": {},
   "outputs": [],
   "source": [
    "import pandas as pd\n",
    "import seaborn as sns\n",
    "import plotly.graph_objects as go\n",
    "import plotly.io as pio\n",
    "\n",
    "# Supondo que 'dados' seja o DataFrame original\n",
    "# Contando a frequência das marcas de objetos\n",
    "counts = dados[\"MARCA_OBJETO\"].value_counts()\n",
    "\n",
    "# Manter as top 4 marcas e agrupar o restante em \"Outros\"\n",
    "top_4 = counts.nlargest(4)\n",
    "outros = counts[counts < counts.nlargest(4).min()].sum()\n",
    "top_5 = pd.concat([top_4, pd.Series(outros, index=['Outros'])])\n",
    "\n",
    "# Calcular o total para obter as porcentagens\n",
    "total = top_5.sum()\n",
    "\n",
    "# Calcular as porcentagens\n",
    "porcentagens = (top_5 / total) * 100\n",
    "\n",
    "\n",
    "# Obter a paleta de cores \"rocket\" do Seaborn\n",
    "colors = [f'rgb({int(c[0]*255)},{int(c[1]*255)},{int(c[2]*255)})' for c in sns.color_palette(\"rocket\", len(porcentagens))]\n",
    "\n",
    "# Criar um gráfico de barras interativo com Plotly\n",
    "fig = go.Figure()\n",
    "\n",
    "fig.add_trace(go.Bar(\n",
    "    x=porcentagens.index,\n",
    "    y=porcentagens.values,\n",
    "    hoverinfo='x+y',  # Informações que aparecerão ao passar o mouse\n",
    "    marker=dict(color=colors)\n",
    "))\n",
    "\n",
    "fig.update_layout(\n",
    "    # title={'text':'Marca dos celulares com maior frequência de furto e roubos','x':0.5},\n",
    "    xaxis_title='Marca',\n",
    "    yaxis_title='Porcentagem',\n",
    "    xaxis_tickangle=-45,  # Rotacionar rótulos do eixo x para melhor legibilidade\n",
    "    font=dict(color='white'),\n",
    "    paper_bgcolor='#0E1117',\n",
    "    plot_bgcolor='#0E1117'\n",
    ")\n",
    "# Salvar o gráfico como um arquivo HTML\n",
    "fig.write_html(\"../results/marca.html\")"
   ]
  },
  {
   "cell_type": "markdown",
   "metadata": {},
   "source": [
    "### Bairro vs Periodo"
   ]
  },
  {
   "cell_type": "code",
   "execution_count": 166,
   "metadata": {},
   "outputs": [
    {
     "data": {
      "text/plain": [
       "BAIRRO\n",
       "CENTRO             607\n",
       "CAMPOS ELISEOS     478\n",
       "JD JOQUEI CLUBE    450\n",
       "RIBEIRANIA         154\n",
       "Name: count, dtype: int64"
      ]
     },
     "execution_count": 166,
     "metadata": {},
     "output_type": "execute_result"
    }
   ],
   "source": [
    "dados['BAIRRO'].value_counts().nlargest(4)"
   ]
  },
  {
   "cell_type": "code",
   "execution_count": 175,
   "metadata": {},
   "outputs": [
    {
     "data": {
      "text/plain": [
       "1519"
      ]
     },
     "execution_count": 175,
     "metadata": {},
     "output_type": "execute_result"
    }
   ],
   "source": [
    "sum(dados['PERIODO_DO_DIA'].isna())"
   ]
  },
  {
   "cell_type": "code",
   "execution_count": 178,
   "metadata": {},
   "outputs": [
    {
     "name": "stdout",
     "output_type": "stream",
     "text": [
      "Index(['CENTRO', 'CAMPOS ELISEOS', 'JD JOQUEI CLUBE', 'RIBEIRANIA'], dtype='object', name='BAIRRO')\n",
      "Contagem total por bairro:\n",
      " BAIRRO\n",
      "CENTRO             607\n",
      "CAMPOS ELISEOS     478\n",
      "JD JOQUEI CLUBE    450\n",
      "RIBEIRANIA         154\n",
      "Name: count, dtype: int64\n",
      "Contagem por bairro e período do dia:\n",
      " PERIODO_DO_DIA   Madrugada  Manhã  Noite  Tarde\n",
      "BAIRRO                                         \n",
      "CAMPOS ELISEOS          46     47     90     74\n",
      "CENTRO                  38     55     91     90\n",
      "JD JOQUEI CLUBE         37     10     12      1\n",
      "RIBEIRANIA               6      6     25     12\n",
      "\n",
      "Soma das ocorrências por bairro:\n",
      " BAIRRO\n",
      "CAMPOS ELISEOS     257\n",
      "CENTRO             274\n",
      "JD JOQUEI CLUBE     60\n",
      "RIBEIRANIA          49\n",
      "dtype: int64\n"
     ]
    },
    {
     "data": {
      "image/png": "[encoded data removed]",
      "text/plain": [
       "<Figure size 1400x800 with 2 Axes>"
      ]
     },
     "metadata": {},
     "output_type": "display_data"
    }
   ],
   "source": [
    "import pandas as pd\n",
    "import seaborn as sns\n",
    "import matplotlib.pyplot as plt\n",
    "\n",
    "# Filtrando os 4 bairros com mais casos no dataset\n",
    "top_bairros = dados['BAIRRO'].value_counts().nlargest(4).index\n",
    "print(top_bairros)\n",
    "# Filtrando o DataFrame apenas com os bairros selecionados\n",
    "dados_filtrados = dados[dados['BAIRRO'].isin(top_bairros)]\n",
    "\n",
    "bairro_total_counts = dados_filtrados['BAIRRO'].value_counts()\n",
    "print(\"Contagem total por bairro:\\n\", bairro_total_counts)\n",
    "\n",
    "bairro_periodo_counts = dados_filtrados.groupby(['BAIRRO', 'PERIODO_DO_DIA']).size().unstack(fill_value=0)\n",
    "print(\"Contagem por bairro e período do dia:\\n\", bairro_periodo_counts)\n",
    "dados_filtrados.groupby(['BAIRRO', 'PERIODO_DO_DIA']).size()\n",
    "bairro_periodo_sums = bairro_periodo_counts.sum(axis=1)\n",
    "print(\"\\nSoma das ocorrências por bairro:\\n\", bairro_periodo_sums)\n",
    "# # Plotando um heatmap das frequências de ocorrências por bairro e período de ocorrência\n",
    "plt.figure(figsize=(14, 8))\n",
    "sns.heatmap(bairro_periodo_counts, annot=True, cmap=sns.color_palette(\"YlGnBu\", as_cmap=True), fmt=\"d\", linewidths=0.5)\n",
    "plt.title('\\nFrequência de Ocorrências por Bairro e Período de Ocorrência\\n')\n",
    "plt.xlabel('\\nPeríodo de Ocorrência\\n')\n",
    "plt.ylabel('\\nBairro\\n')\n",
    "plt.xticks(rotation=45)\n",
    "plt.show()\n"
   ]
  },
  {
   "cell_type": "code",
   "execution_count": 182,
   "metadata": {},
   "outputs": [],
   "source": [
    "\n",
    "# Filtrando os 4 bairros com mais casos no dataset\n",
    "top_bairros = dados['BAIRRO'].value_counts().nlargest(4).index\n",
    "\n",
    "# Filtrando o DataFrame apenas com os bairros selecionados\n",
    "dados_filtrados = dados[dados['BAIRRO'].isin(top_bairros)]\n",
    "\n",
    "# Calculando a frequência de ocorrências para cada combinação de BAIRRO e PERIODO_DO_DIA\n",
    "bairro_periodo_counts = dados_filtrados.groupby(['BAIRRO', 'PERIODO_DO_DIA']).size().unstack(fill_value=0)\n",
    "\n",
    "# Converter o DataFrame para o formato adequado para Plotly\n",
    "bairro_periodo_counts = bairro_periodo_counts.reset_index().melt(id_vars='BAIRRO')\n",
    "\n",
    "# Criar o heatmap usando Plotly\n",
    "rocket_palette = [f'rgb({int(c[0]*255)},{int(c[1]*255)},{int(c[2]*255)})' for c in sns.color_palette(\"rocket\", as_cmap=False)]\n",
    "\n",
    "fig = px.density_heatmap(bairro_periodo_counts, x='PERIODO_DO_DIA', y='BAIRRO', z='value', color_continuous_scale=rocket_palette)\n",
    "\n",
    "# Adicionar números dentro dos quadrados\n",
    "fig.update_traces(\n",
    "    texttemplate='%{z}',\n",
    "    textfont=dict(color='white'),\n",
    "    hovertemplate='Bairro: %{y}<br>Período: %{x}<br>Ocorrências: %{z}<extra></extra>'\n",
    ")\n",
    "\n",
    "# Configurações de layout para dark mode\n",
    "fig.update_layout(\n",
    "    # title='Frequência de Ocorrências por Bairro e Período de Ocorrência',\n",
    "    title_font=dict(size=24, color='white'),\n",
    "    xaxis_title='Período de Ocorrência',\n",
    "    yaxis_title='Bairro',\n",
    "    font=dict(color='white'),\n",
    "    paper_bgcolor='#0E1117',\n",
    "    plot_bgcolor='#0E1117',\n",
    "    xaxis=dict(showgrid=False, title_standoff=10),\n",
    "    yaxis=dict(showgrid=False, title_standoff=10)\n",
    ")\n",
    "\n",
    "\n",
    "# Save plot to HTML\n",
    "fig.write_html(\"../results/bairro_periodo.html\")"
   ]
  },
  {
   "cell_type": "markdown",
   "metadata": {},
   "source": [
    "### TreeMap"
   ]
  },
  {
   "cell_type": "code",
   "execution_count": 279,
   "metadata": {},
   "outputs": [
    {
     "data": {
      "text/plain": [
       "BAIRRO\n",
       "JD JOQUEI CLUBE                  522\n",
       "CENTRO                           446\n",
       "CAMPOS ELISEOS                   341\n",
       "RIBEIRANIA                       124\n",
       "PQ RIBEIRAO PRETO                115\n",
       "                                ... \n",
       "CONDOMINIO VILLA BUENOS AIRES      1\n",
       "REPUBLICA                          1\n",
       "JARDIM PATRIARCA                   1\n",
       "JARDIM JAMIL SEME CURY             1\n",
       "RES E COM PALMARES                 1\n",
       "Name: count, Length: 262, dtype: int64"
      ]
     },
     "execution_count": 279,
     "metadata": {},
     "output_type": "execute_result"
    }
   ],
   "source": [
    "dados23['BAIRRO'].value_counts()"
   ]
  },
  {
   "cell_type": "code",
   "execution_count": 280,
   "metadata": {},
   "outputs": [
    {
     "data": {
      "application/vnd.plotly.v1+json": {
       "config": {
        "plotlyServerURL": "https://plot.ly"
       },
       "data": [
        {
         "labels": [
          "JD JOQUEI CLUBE",
          "CENTRO",
          "CAMPOS ELISEOS",
          "RIBEIRANIA",
          "PQ RIBEIRAO PRETO",
          "VILA TIBERIO",
          "JD PAULISTA",
          "VILA VIRGINIA",
          "IPIRANGA",
          "ALTO DO IPIRANGA",
          "JD SUMARE",
          "RECREIO ANHANGUERA",
          "VILA MONTE ALEGRE",
          "ALTO DA BOA VISTA",
          "VILA ALBERTINA",
          "VILA AMELIA",
          "QUINTINO FACCI II",
          "NOVA ALIANCA",
          "VILA ELISA",
          "JARDIM CALIFORNIA",
          "PLANALTO VERDE",
          "JARDIM AEROPORTO",
          "JARDIM SALGADO FILHO",
          "PRESIDENTE DUTRA",
          "JARDIM AMERICA",
          "JD IRAJA",
          "PARQUE INDUSTRIA",
          "VILA DO GOLF",
          "AREA RURAL",
          "JARDIM SUMARE",
          "PARQUE ANHANGUERA",
          "JD JOSE SAMPAIO JUNIOR",
          "INDEPENDENCIA",
          "JARDIM PAIVA",
          "VILA SEIXAS",
          "CAMPUS CIDADE UNIVERSITARIA",
          "VILA ANA MARIA",
          "BONFIM PAULISTA",
          "PARQUE INDUSTRIAL CORONEL QUITO JUNQUEIRA",
          "SUMAREZINHO",
          "JD JANDAIA",
          "JD PIRATININGA",
          "JARDIM ANTARTICA",
          "ADELINO SIMIONI",
          "PQ DOS PINOS",
          "JARDIM CRISTO REDENTOR",
          "JARDIM BOTANICO",
          "NOVA RIBEIRANIA",
          "MOURA LACERDA",
          "JARDIM FLORESTAN FERNANDES"
         ],
         "parents": [
          "",
          "",
          "",
          "",
          "",
          "",
          "",
          "",
          "",
          "",
          "",
          "",
          "",
          "",
          "",
          "",
          "",
          "",
          "",
          "",
          "",
          "",
          "",
          "",
          "",
          "",
          "",
          "",
          "",
          "",
          "",
          "",
          "",
          "",
          "",
          "",
          "",
          "",
          "",
          "",
          "",
          "",
          "",
          "",
          "",
          "",
          "",
          "",
          "",
          ""
         ],
         "type": "treemap",
         "values": [
          522,
          446,
          341,
          124,
          115,
          107,
          102,
          102,
          102,
          93,
          69,
          67,
          66,
          62,
          61,
          55,
          47,
          47,
          46,
          45,
          45,
          43,
          41,
          39,
          39,
          38,
          36,
          36,
          36,
          34,
          32,
          31,
          31,
          30,
          30,
          29,
          28,
          28,
          28,
          28,
          27,
          26,
          26,
          25,
          24,
          23,
          23,
          22,
          21,
          21
         ]
        }
       ],
       "layout": {
        "colorway": [
         "#1f77b4",
         "#ff7f0e",
         "#2ca02c",
         "#d62728",
         "#9467bd",
         "#8c564b"
        ],
        "template": {
         "data": {
          "bar": [
           {
            "error_x": {
             "color": "#2a3f5f"
            },
            "error_y": {
             "color": "#2a3f5f"
            },
            "marker": {
             "line": {
              "color": "#E5ECF6",
              "width": 0.5
             },
             "pattern": {
              "fillmode": "overlay",
              "size": 10,
              "solidity": 0.2
             }
            },
            "type": "bar"
           }
          ],
          "barpolar": [
           {
            "marker": {
             "line": {
              "color": "#E5ECF6",
              "width": 0.5
             },
             "pattern": {
              "fillmode": "overlay",
              "size": 10,
              "solidity": 0.2
             }
            },
            "type": "barpolar"
           }
          ],
          "carpet": [
           {
            "aaxis": {
             "endlinecolor": "#2a3f5f",
             "gridcolor": "white",
             "linecolor": "white",
             "minorgridcolor": "white",
             "startlinecolor": "#2a3f5f"
            },
            "baxis": {
             "endlinecolor": "#2a3f5f",
             "gridcolor": "white",
             "linecolor": "white",
             "minorgridcolor": "white",
             "startlinecolor": "#2a3f5f"
            },
            "type": "carpet"
           }
          ],
          "choropleth": [
           {
            "colorbar": {
             "outlinewidth": 0,
             "ticks": ""
            },
            "type": "choropleth"
           }
          ],
          "contour": [
           {
            "colorbar": {
             "outlinewidth": 0,
             "ticks": ""
            },
            "colorscale": [
             [
              0,
              "#0d0887"
             ],
             [
              0.1111111111111111,
              "#46039f"
             ],
             [
              0.2222222222222222,
              "#7201a8"
             ],
             [
              0.3333333333333333,
              "#9c179e"
             ],
             [
              0.4444444444444444,
              "#bd3786"
             ],
             [
              0.5555555555555556,
              "#d8576b"
             ],
             [
              0.6666666666666666,
              "#ed7953"
             ],
             [
              0.7777777777777778,
              "#fb9f3a"
             ],
             [
              0.8888888888888888,
              "#fdca26"
             ],
             [
              1,
              "#f0f921"
             ]
            ],
            "type": "contour"
           }
          ],
          "contourcarpet": [
           {
            "colorbar": {
             "outlinewidth": 0,
             "ticks": ""
            },
            "type": "contourcarpet"
           }
          ],
          "heatmap": [
           {
            "colorbar": {
             "outlinewidth": 0,
             "ticks": ""
            },
            "colorscale": [
             [
              0,
              "#0d0887"
             ],
             [
              0.1111111111111111,
              "#46039f"
             ],
             [
              0.2222222222222222,
              "#7201a8"
             ],
             [
              0.3333333333333333,
              "#9c179e"
             ],
             [
              0.4444444444444444,
              "#bd3786"
             ],
             [
              0.5555555555555556,
              "#d8576b"
             ],
             [
              0.6666666666666666,
              "#ed7953"
             ],
             [
              0.7777777777777778,
              "#fb9f3a"
             ],
             [
              0.8888888888888888,
              "#fdca26"
             ],
             [
              1,
              "#f0f921"
             ]
            ],
            "type": "heatmap"
           }
          ],
          "heatmapgl": [
           {
            "colorbar": {
             "outlinewidth": 0,
             "ticks": ""
            },
            "colorscale": [
             [
              0,
              "#0d0887"
             ],
             [
              0.1111111111111111,
              "#46039f"
             ],
             [
              0.2222222222222222,
              "#7201a8"
             ],
             [
              0.3333333333333333,
              "#9c179e"
             ],
             [
              0.4444444444444444,
              "#bd3786"
             ],
             [
              0.5555555555555556,
              "#d8576b"
             ],
             [
              0.6666666666666666,
              "#ed7953"
             ],
             [
              0.7777777777777778,
              "#fb9f3a"
             ],
             [
              0.8888888888888888,
              "#fdca26"
             ],
             [
              1,
              "#f0f921"
             ]
            ],
            "type": "heatmapgl"
           }
          ],
          "histogram": [
           {
            "marker": {
             "pattern": {
              "fillmode": "overlay",
              "size": 10,
              "solidity": 0.2
             }
            },
            "type": "histogram"
           }
          ],
          "histogram2d": [
           {
            "colorbar": {
             "outlinewidth": 0,
             "ticks": ""
            },
            "colorscale": [
             [
              0,
              "#0d0887"
             ],
             [
              0.1111111111111111,
              "#46039f"
             ],
             [
              0.2222222222222222,
              "#7201a8"
             ],
             [
              0.3333333333333333,
              "#9c179e"
             ],
             [
              0.4444444444444444,
              "#bd3786"
             ],
             [
              0.5555555555555556,
              "#d8576b"
             ],
             [
              0.6666666666666666,
              "#ed7953"
             ],
             [
              0.7777777777777778,
              "#fb9f3a"
             ],
             [
              0.8888888888888888,
              "#fdca26"
             ],
             [
              1,
              "#f0f921"
             ]
            ],
            "type": "histogram2d"
           }
          ],
          "histogram2dcontour": [
           {
            "colorbar": {
             "outlinewidth": 0,
             "ticks": ""
            },
            "colorscale": [
             [
              0,
              "#0d0887"
             ],
             [
              0.1111111111111111,
              "#46039f"
             ],
             [
              0.2222222222222222,
              "#7201a8"
             ],
             [
              0.3333333333333333,
              "#9c179e"
             ],
             [
              0.4444444444444444,
              "#bd3786"
             ],
             [
              0.5555555555555556,
              "#d8576b"
             ],
             [
              0.6666666666666666,
              "#ed7953"
             ],
             [
              0.7777777777777778,
              "#fb9f3a"
             ],
             [
              0.8888888888888888,
              "#fdca26"
             ],
             [
              1,
              "#f0f921"
             ]
            ],
            "type": "histogram2dcontour"
           }
          ],
          "mesh3d": [
           {
            "colorbar": {
             "outlinewidth": 0,
             "ticks": ""
            },
            "type": "mesh3d"
           }
          ],
          "parcoords": [
           {
            "line": {
             "colorbar": {
              "outlinewidth": 0,
              "ticks": ""
             }
            },
            "type": "parcoords"
           }
          ],
          "pie": [
           {
            "automargin": true,
            "type": "pie"
           }
          ],
          "scatter": [
           {
            "fillpattern": {
             "fillmode": "overlay",
             "size": 10,
             "solidity": 0.2
            },
            "type": "scatter"
           }
          ],
          "scatter3d": [
           {
            "line": {
             "colorbar": {
              "outlinewidth": 0,
              "ticks": ""
             }
            },
            "marker": {
             "colorbar": {
              "outlinewidth": 0,
              "ticks": ""
             }
            },
            "type": "scatter3d"
           }
          ],
          "scattercarpet": [
           {
            "marker": {
             "colorbar": {
              "outlinewidth": 0,
              "ticks": ""
             }
            },
            "type": "scattercarpet"
           }
          ],
          "scattergeo": [
           {
            "marker": {
             "colorbar": {
              "outlinewidth": 0,
              "ticks": ""
             }
            },
            "type": "scattergeo"
           }
          ],
          "scattergl": [
           {
            "marker": {
             "colorbar": {
              "outlinewidth": 0,
              "ticks": ""
             }
            },
            "type": "scattergl"
           }
          ],
          "scattermapbox": [
           {
            "marker": {
             "colorbar": {
              "outlinewidth": 0,
              "ticks": ""
             }
            },
            "type": "scattermapbox"
           }
          ],
          "scatterpolar": [
           {
            "marker": {
             "colorbar": {
              "outlinewidth": 0,
              "ticks": ""
             }
            },
            "type": "scatterpolar"
           }
          ],
          "scatterpolargl": [
           {
            "marker": {
             "colorbar": {
              "outlinewidth": 0,
              "ticks": ""
             }
            },
            "type": "scatterpolargl"
           }
          ],
          "scatterternary": [
           {
            "marker": {
             "colorbar": {
              "outlinewidth": 0,
              "ticks": ""
             }
            },
            "type": "scatterternary"
           }
          ],
          "surface": [
           {
            "colorbar": {
             "outlinewidth": 0,
             "ticks": ""
            },
            "colorscale": [
             [
              0,
              "#0d0887"
             ],
             [
              0.1111111111111111,
              "#46039f"
             ],
             [
              0.2222222222222222,
              "#7201a8"
             ],
             [
              0.3333333333333333,
              "#9c179e"
             ],
             [
              0.4444444444444444,
              "#bd3786"
             ],
             [
              0.5555555555555556,
              "#d8576b"
             ],
             [
              0.6666666666666666,
              "#ed7953"
             ],
             [
              0.7777777777777778,
              "#fb9f3a"
             ],
             [
              0.8888888888888888,
              "#fdca26"
             ],
             [
              1,
              "#f0f921"
             ]
            ],
            "type": "surface"
           }
          ],
          "table": [
           {
            "cells": {
             "fill": {
              "color": "#EBF0F8"
             },
             "line": {
              "color": "white"
             }
            },
            "header": {
             "fill": {
              "color": "#C8D4E3"
             },
             "line": {
              "color": "white"
             }
            },
            "type": "table"
           }
          ]
         },
         "layout": {
          "annotationdefaults": {
           "arrowcolor": "#2a3f5f",
           "arrowhead": 0,
           "arrowwidth": 1
          },
          "autotypenumbers": "strict",
          "coloraxis": {
           "colorbar": {
            "outlinewidth": 0,
            "ticks": ""
           }
          },
          "colorscale": {
           "diverging": [
            [
             0,
             "#8e0152"
            ],
            [
             0.1,
             "#c51b7d"
            ],
            [
             0.2,
             "#de77ae"
            ],
            [
             0.3,
             "#f1b6da"
            ],
            [
             0.4,
             "#fde0ef"
            ],
            [
             0.5,
             "#f7f7f7"
            ],
            [
             0.6,
             "#e6f5d0"
            ],
            [
             0.7,
             "#b8e186"
            ],
            [
             0.8,
             "#7fbc41"
            ],
            [
             0.9,
             "#4d9221"
            ],
            [
             1,
             "#276419"
            ]
           ],
           "sequential": [
            [
             0,
             "#0d0887"
            ],
            [
             0.1111111111111111,
             "#46039f"
            ],
            [
             0.2222222222222222,
             "#7201a8"
            ],
            [
             0.3333333333333333,
             "#9c179e"
            ],
            [
             0.4444444444444444,
             "#bd3786"
            ],
            [
             0.5555555555555556,
             "#d8576b"
            ],
            [
             0.6666666666666666,
             "#ed7953"
            ],
            [
             0.7777777777777778,
             "#fb9f3a"
            ],
            [
             0.8888888888888888,
             "#fdca26"
            ],
            [
             1,
             "#f0f921"
            ]
           ],
           "sequentialminus": [
            [
             0,
             "#0d0887"
            ],
            [
             0.1111111111111111,
             "#46039f"
            ],
            [
             0.2222222222222222,
             "#7201a8"
            ],
            [
             0.3333333333333333,
             "#9c179e"
            ],
            [
             0.4444444444444444,
             "#bd3786"
            ],
            [
             0.5555555555555556,
             "#d8576b"
            ],
            [
             0.6666666666666666,
             "#ed7953"
            ],
            [
             0.7777777777777778,
             "#fb9f3a"
            ],
            [
             0.8888888888888888,
             "#fdca26"
            ],
            [
             1,
             "#f0f921"
            ]
           ]
          },
          "colorway": [
           "#636efa",
           "#EF553B",
           "#00cc96",
           "#ab63fa",
           "#FFA15A",
           "#19d3f3",
           "#FF6692",
           "#B6E880",
           "#FF97FF",
           "#FECB52"
          ],
          "font": {
           "color": "#2a3f5f"
          },
          "geo": {
           "bgcolor": "white",
           "lakecolor": "white",
           "landcolor": "#E5ECF6",
           "showlakes": true,
           "showland": true,
           "subunitcolor": "white"
          },
          "hoverlabel": {
           "align": "left"
          },
          "hovermode": "closest",
          "mapbox": {
           "style": "light"
          },
          "paper_bgcolor": "white",
          "plot_bgcolor": "#E5ECF6",
          "polar": {
           "angularaxis": {
            "gridcolor": "white",
            "linecolor": "white",
            "ticks": ""
           },
           "bgcolor": "#E5ECF6",
           "radialaxis": {
            "gridcolor": "white",
            "linecolor": "white",
            "ticks": ""
           }
          },
          "scene": {
           "xaxis": {
            "backgroundcolor": "#E5ECF6",
            "gridcolor": "white",
            "gridwidth": 2,
            "linecolor": "white",
            "showbackground": true,
            "ticks": "",
            "zerolinecolor": "white"
           },
           "yaxis": {
            "backgroundcolor": "#E5ECF6",
            "gridcolor": "white",
            "gridwidth": 2,
            "linecolor": "white",
            "showbackground": true,
            "ticks": "",
            "zerolinecolor": "white"
           },
           "zaxis": {
            "backgroundcolor": "#E5ECF6",
            "gridcolor": "white",
            "gridwidth": 2,
            "linecolor": "white",
            "showbackground": true,
            "ticks": "",
            "zerolinecolor": "white"
           }
          },
          "shapedefaults": {
           "line": {
            "color": "#2a3f5f"
           }
          },
          "ternary": {
           "aaxis": {
            "gridcolor": "white",
            "linecolor": "white",
            "ticks": ""
           },
           "baxis": {
            "gridcolor": "white",
            "linecolor": "white",
            "ticks": ""
           },
           "bgcolor": "#E5ECF6",
           "caxis": {
            "gridcolor": "white",
            "linecolor": "white",
            "ticks": ""
           }
          },
          "title": {
           "x": 0.05
          },
          "xaxis": {
           "automargin": true,
           "gridcolor": "white",
           "linecolor": "white",
           "ticks": "",
           "title": {
            "standoff": 15
           },
           "zerolinecolor": "white",
           "zerolinewidth": 2
          },
          "yaxis": {
           "automargin": true,
           "gridcolor": "white",
           "linecolor": "white",
           "ticks": "",
           "title": {
            "standoff": 15
           },
           "zerolinecolor": "white",
           "zerolinewidth": 2
          }
         }
        }
       }
      }
     },
     "metadata": {},
     "output_type": "display_data"
    }
   ],
   "source": [
    "# Contar a quantidade de ocorrências por bairro\n",
    "bairro_counts = dados23['BAIRRO'].value_counts().reset_index()\n",
    "bairro_counts.columns = ['BAIRRO', 'counts']\n",
    "\n",
    "# Remover valores ausentes, se houver\n",
    "bairro_counts.dropna(subset=['counts'], inplace=True)\n",
    "\n",
    "# Converter a coluna \"counts\" para tipo numérico, se possível\n",
    "bairro_counts['counts'] = pd.to_numeric(bairro_counts['counts'], errors='coerce')\n",
    "\n",
    "# Remover linhas com valores não numéricos\n",
    "bairro_counts.dropna(subset=['counts'], inplace=True)\n",
    "\n",
    "bairro_counts = bairro_counts[bairro_counts['counts']>20] # Maior que a media ou quartil...\n",
    "\n",
    "# Criar o objeto Treemap\n",
    "fig = go.Figure(go.Treemap(\n",
    "    labels=bairro_counts['BAIRRO'],\n",
    "    parents=[\"\"] * len(bairro_counts),  # Todos os bairros são raízes\n",
    "    values=bairro_counts['counts']\n",
    "))\n",
    "\n",
    "# Atualizar layout\n",
    "fig.update_layout(\n",
    "    # title='Ocorrências por Bairro',\n",
    "    colorway=['#1f77b4', '#ff7f0e', '#2ca02c', '#d62728', '#9467bd', '#8c564b'],\n",
    ")\n",
    "\n",
    "# Exibir o gráfico\n",
    "fig.show()\n"
   ]
  },
  {
   "cell_type": "code",
   "execution_count": 287,
   "metadata": {},
   "outputs": [],
   "source": [
    "# colors = [f'rgb({int(c[0]*255)},{int(c[1]*255)},{int(c[2]*255)})' for c in sns.color_palette(\"rocket\", len(bairro_counts))]\n",
    "colors = [f'rgb({int(c[0]*255)},{int(c[1]*255)},{int(c[2]*255)})' for c in sns.color_palette(\"plasma\", len(bairro_counts))]\n",
    "\n",
    "# Criar o objeto Treemap\n",
    "fig = go.Figure(go.Treemap(\n",
    "    labels=bairro_counts['BAIRRO'],\n",
    "    parents=[\"\"] * len(bairro_counts),  # Todos os bairros são raízes\n",
    "    values=bairro_counts['counts'],\n",
    "    textinfo=\"label+value+percent entry\",\n",
    "    marker=dict(colors=colors)\n",
    "))\n",
    "\n",
    "# Atualizar layout para corresponder ao fundo do Streamlit\n",
    "fig.update_layout(\n",
    "    # title='Ocorrências por Bairro',\n",
    "    title_font=dict(size=24, color='white'),\n",
    "    font=dict(color='white'),\n",
    "    paper_bgcolor='#0E1117',  # Cor do fundo da página\n",
    "    plot_bgcolor='#0E1117',    # Cor do fundo do gráfico\n",
    "    # width=800,\n",
    "    # height=400,\n",
    ")\n",
    "\n",
    "\n",
    "# Salvar gráfico como HTML\n",
    "fig.write_html(\"../results/treemap.html\")\n"
   ]
  },
  {
   "cell_type": "markdown",
   "metadata": {},
   "source": [
    "### Analise tempo ate o BO"
   ]
  },
  {
   "cell_type": "markdown",
   "metadata": {},
   "source": [
    "Outra questão interessante é quanto tempo as pessoas esperam antes de denunciar o crime. Ao subtrair a data em que o crime ocorreu e foi denunciado, obtenho informações sobre o tempo de “atraso” e estratifico-os por crimes."
   ]
  },
  {
   "cell_type": "code",
   "execution_count": 6,
   "metadata": {},
   "outputs": [
    {
     "data": {
      "text/plain": [
       "RUBRICA\n",
       "Furto (art. 155)                                                                    2036\n",
       "Roubo (art. 157)                                                                    1558\n",
       "Perda/Extravio                                                                       775\n",
       "Localização/Apreensão e Entrega de veículo                                            77\n",
       "Outros não criminal                                                                   71\n",
       "Estelionato (art. 171)                                                                19\n",
       "Ameaça (art. 147)                                                                     18\n",
       "Localização/Apreensão e Entrega de objeto                                             13\n",
       "Lesão corporal (art. 129)                                                             13\n",
       "Localização/Apreensão de veículo                                                      10\n",
       "Localização/Apreensão de objeto                                                        8\n",
       "Descumprimento de medida protetiva de urgência (art. 24-A)                             6\n",
       "Receptação (art. 180)                                                                  6\n",
       "Violência Doméstica                                                                    6\n",
       "Dano (art. 163)                                                                        5\n",
       "Injúria (art. 140)                                                                     4\n",
       "Seqüestro e cárcere privado (art. 148)                                                 4\n",
       "Caput Corromper ou facilitar a corrupção de menor de 18 anos (244B)                    4\n",
       "Apropriação de coisa havida por erro, caso fortuito, força da natureza (art 169)       3\n",
       "Exercício arbitrário das próprias razões (art. 345)                                    2\n",
       "Vias de fato (art. 21)                                                                 2\n",
       "Entrega de veículo localizado/apreendido                                               2\n",
       "Apropriação indébita (art. 168)                                                        2\n",
       "Crime contra registro de marca (Art. 190)                                              1\n",
       "Perseguir (art. 147-A)                                                                 1\n",
       "Drogas sem autorização ou em desacordo (Art.33, caput)                                 1\n",
       "Desaparecimento de pessoa                                                              1\n",
       "Art.216B -Produzir, fotografar, filmar ou registrar, por qualquer meio, conteúdo       1\n",
       "Lesão corporal (Art. 27)                                                               1\n",
       "Art. 213 - Estupro                                                                     1\n",
       "Calúnia (art. 138)                                                                     1\n",
       "Adulteração de sinal identificador de veículo automotor (art. 311)                     1\n",
       "Lesão corporal culposa na direção de veículo automotor (Art. 303)                      1\n",
       "Entrega de objeto localizado/apreendido                                                1\n",
       "Drogas para consumo pessoal sem autorização ou em desacordo (Art.28,caput)             1\n",
       "Cumprimento de mandado de busca e apreensão                                            1\n",
       "Extorsão (art. 158)                                                                    1\n",
       "Furto de coisa comum (art. 156)                                                        1\n",
       "Invasão de dispositivo informático                                                     1\n",
       "Violação de domicílio (art. 150)                                                       1\n",
       "Name: count, dtype: int64"
      ]
     },
     "execution_count": 6,
     "metadata": {},
     "output_type": "execute_result"
    }
   ],
   "source": [
    "dados_cp=dados.copy()\n",
    "\n",
    "# dados_cp.loc[~dados_cp['RUBRICA'].isin(tipos_in), 'RUBRICA'] = 'Outros'\n",
    "\n",
    "dados_cp['RUBRICA'].value_counts()"
   ]
  },
  {
   "cell_type": "code",
   "execution_count": 7,
   "metadata": {},
   "outputs": [
    {
     "name": "stdout",
     "output_type": "stream",
     "text": [
      "4590\n",
      "      DATA_OCORRENCIA_BO DATA_COMUNICACAO_BO  TEMPO_ATRASO\n",
      "23380         2023-01-07          2023-01-09             2\n",
      "23381         2023-01-11          2023-01-11             0\n",
      "23382         2023-01-11          2023-01-11             0\n",
      "23383         2023-01-10          2023-01-11             1\n",
      "23384         2023-01-10          2023-01-11             1\n"
     ]
    }
   ],
   "source": [
    "dados['DATA_COMUNICACAO_BO'] = pd.to_datetime(dados['DATA_COMUNICACAO_BO'])\n",
    "dados['DATA_OCORRENCIA_BO'] = pd.to_datetime(dados['DATA_OCORRENCIA_BO'])\n",
    "\n",
    "# Calcular o tempo de atraso em dias\n",
    "dados['TEMPO_ATRASO'] = (dados['DATA_COMUNICACAO_BO'] - dados['DATA_OCORRENCIA_BO']).dt.days\n",
    "\n",
    "dados = dados[dados['TEMPO_ATRASO'] >= 0]\n",
    "\n",
    "# Filtrar crimes que aparecem pelo menos 10 vezes\n",
    "crime_counts = dados['RUBRICA'].value_counts()\n",
    "crimes_filtrados = crime_counts[crime_counts >= 10].index\n",
    "dados_filtrados = dados[dados['RUBRICA'].isin(crimes_filtrados)]\n",
    "\n",
    "# Exibir os primeiros registros para verificar\n",
    "print(len(dados_filtrados))\n",
    "print(dados_filtrados[['DATA_OCORRENCIA_BO', 'DATA_COMUNICACAO_BO', 'TEMPO_ATRASO']].head())\n"
   ]
  },
  {
   "cell_type": "code",
   "execution_count": 8,
   "metadata": {},
   "outputs": [
    {
     "name": "stdout",
     "output_type": "stream",
     "text": [
      "10\n",
      "                                   count       mean         std  min  25%  \\\n",
      "RUBRICA                                                                     \n",
      "Ameaça (art. 147)                   18.0   3.444444    3.899053  0.0  1.0   \n",
      "Estelionato (art. 171)              19.0   1.052632    0.911268  0.0  0.5   \n",
      "Furto (art. 155)                  2036.0   7.834971  116.653380  0.0  0.0   \n",
      "Lesão corporal (art. 129)           13.0  28.461538  101.119249  0.0  0.0   \n",
      "Localização/Apreensão de veículo    10.0   0.200000    0.421637  0.0  0.0   \n",
      "\n",
      "                                  50%  75%     max  \n",
      "RUBRICA                                             \n",
      "Ameaça (art. 147)                 3.0  3.0    16.0  \n",
      "Estelionato (art. 171)            1.0  1.0     3.0  \n",
      "Furto (art. 155)                  1.0  2.0  3652.0  \n",
      "Lesão corporal (art. 129)         0.0  1.0   365.0  \n",
      "Localização/Apreensão de veículo  0.0  0.0     1.0  \n"
     ]
    }
   ],
   "source": [
    "\n",
    "atraso_por_crime = dados_filtrados.groupby('RUBRICA')['TEMPO_ATRASO'].describe()\n",
    "\n",
    "print(len(atraso_por_crime))\n",
    "# Exibir as estatísticas descritivas\n",
    "print(atraso_por_crime.head(5))\n"
   ]
  },
  {
   "cell_type": "code",
   "execution_count": 9,
   "metadata": {},
   "outputs": [
    {
     "name": "stderr",
     "output_type": "stream",
     "text": [
      "/tmp/ipykernel_31540/1874908866.py:12: SettingWithCopyWarning: \n",
      "A value is trying to be set on a copy of a slice from a DataFrame.\n",
      "Try using .loc[row_indexer,col_indexer] = value instead\n",
      "\n",
      "See the caveats in the documentation: https://pandas.pydata.org/pandas-docs/stable/user_guide/indexing.html#returning-a-view-versus-a-copy\n",
      "  dados_filtrados['TEMPO_CATEGORIA'] = pd.cut(dados_filtrados['TEMPO_ATRASO'], bins=intervalos, labels=labels)\n",
      "/tmp/ipykernel_31540/1874908866.py:15: FutureWarning: The default of observed=False is deprecated and will be changed to True in a future version of pandas. Pass observed=False to retain current behavior or observed=True to adopt the future default and silence this warning.\n",
      "  atraso_por_crime = dados_filtrados.groupby(['RUBRICA', 'TEMPO_CATEGORIA']).size().unstack(fill_value=0)\n"
     ]
    },
    {
     "data": {
      "text/html": [
       "<div>\n",
       "<style scoped>\n",
       "    .dataframe tbody tr th:only-of-type {\n",
       "        vertical-align: middle;\n",
       "    }\n",
       "\n",
       "    .dataframe tbody tr th {\n",
       "        vertical-align: top;\n",
       "    }\n",
       "\n",
       "    .dataframe thead th {\n",
       "        text-align: right;\n",
       "    }\n",
       "</style>\n",
       "<table border=\"1\" class=\"dataframe\">\n",
       "  <thead>\n",
       "    <tr style=\"text-align: right;\">\n",
       "      <th>TEMPO_CATEGORIA</th>\n",
       "      <th>No mesmo dia</th>\n",
       "      <th>1 dia de atraso</th>\n",
       "      <th>2 dias</th>\n",
       "      <th>3 a 7 dias</th>\n",
       "      <th>8 a 30 dias</th>\n",
       "      <th>30 dias a 1 ano</th>\n",
       "      <th>Mais de 1 ano</th>\n",
       "    </tr>\n",
       "    <tr>\n",
       "      <th>RUBRICA</th>\n",
       "      <th></th>\n",
       "      <th></th>\n",
       "      <th></th>\n",
       "      <th></th>\n",
       "      <th></th>\n",
       "      <th></th>\n",
       "      <th></th>\n",
       "    </tr>\n",
       "  </thead>\n",
       "  <tbody>\n",
       "    <tr>\n",
       "      <th>Ameaça (art. 147)</th>\n",
       "      <td>3</td>\n",
       "      <td>3</td>\n",
       "      <td>1</td>\n",
       "      <td>9</td>\n",
       "      <td>2</td>\n",
       "      <td>0</td>\n",
       "      <td>0</td>\n",
       "    </tr>\n",
       "    <tr>\n",
       "      <th>Estelionato (art. 171)</th>\n",
       "      <td>5</td>\n",
       "      <td>10</td>\n",
       "      <td>2</td>\n",
       "      <td>2</td>\n",
       "      <td>0</td>\n",
       "      <td>0</td>\n",
       "      <td>0</td>\n",
       "    </tr>\n",
       "    <tr>\n",
       "      <th>Furto (art. 155)</th>\n",
       "      <td>756</td>\n",
       "      <td>639</td>\n",
       "      <td>232</td>\n",
       "      <td>260</td>\n",
       "      <td>100</td>\n",
       "      <td>42</td>\n",
       "      <td>7</td>\n",
       "    </tr>\n",
       "    <tr>\n",
       "      <th>Lesão corporal (art. 129)</th>\n",
       "      <td>8</td>\n",
       "      <td>3</td>\n",
       "      <td>1</td>\n",
       "      <td>0</td>\n",
       "      <td>0</td>\n",
       "      <td>1</td>\n",
       "      <td>0</td>\n",
       "    </tr>\n",
       "    <tr>\n",
       "      <th>Localização/Apreensão de veículo</th>\n",
       "      <td>8</td>\n",
       "      <td>2</td>\n",
       "      <td>0</td>\n",
       "      <td>0</td>\n",
       "      <td>0</td>\n",
       "      <td>0</td>\n",
       "      <td>0</td>\n",
       "    </tr>\n",
       "    <tr>\n",
       "      <th>Localização/Apreensão e Entrega de objeto</th>\n",
       "      <td>8</td>\n",
       "      <td>3</td>\n",
       "      <td>2</td>\n",
       "      <td>0</td>\n",
       "      <td>0</td>\n",
       "      <td>0</td>\n",
       "      <td>0</td>\n",
       "    </tr>\n",
       "    <tr>\n",
       "      <th>Localização/Apreensão e Entrega de veículo</th>\n",
       "      <td>48</td>\n",
       "      <td>25</td>\n",
       "      <td>1</td>\n",
       "      <td>2</td>\n",
       "      <td>1</td>\n",
       "      <td>0</td>\n",
       "      <td>0</td>\n",
       "    </tr>\n",
       "    <tr>\n",
       "      <th>Outros não criminal</th>\n",
       "      <td>26</td>\n",
       "      <td>16</td>\n",
       "      <td>4</td>\n",
       "      <td>17</td>\n",
       "      <td>3</td>\n",
       "      <td>5</td>\n",
       "      <td>0</td>\n",
       "    </tr>\n",
       "    <tr>\n",
       "      <th>Perda/Extravio</th>\n",
       "      <td>294</td>\n",
       "      <td>210</td>\n",
       "      <td>81</td>\n",
       "      <td>120</td>\n",
       "      <td>54</td>\n",
       "      <td>14</td>\n",
       "      <td>2</td>\n",
       "    </tr>\n",
       "    <tr>\n",
       "      <th>Roubo (art. 157)</th>\n",
       "      <td>789</td>\n",
       "      <td>398</td>\n",
       "      <td>116</td>\n",
       "      <td>176</td>\n",
       "      <td>66</td>\n",
       "      <td>12</td>\n",
       "      <td>1</td>\n",
       "    </tr>\n",
       "  </tbody>\n",
       "</table>\n",
       "</div>"
      ],
      "text/plain": [
       "TEMPO_CATEGORIA                             No mesmo dia  1 dia de atraso  \\\n",
       "RUBRICA                                                                     \n",
       "Ameaça (art. 147)                                      3                3   \n",
       "Estelionato (art. 171)                                 5               10   \n",
       "Furto (art. 155)                                     756              639   \n",
       "Lesão corporal (art. 129)                              8                3   \n",
       "Localização/Apreensão de veículo                       8                2   \n",
       "Localização/Apreensão e Entrega de objeto              8                3   \n",
       "Localização/Apreensão e Entrega de veículo            48               25   \n",
       "Outros não criminal                                   26               16   \n",
       "Perda/Extravio                                       294              210   \n",
       "Roubo (art. 157)                                     789              398   \n",
       "\n",
       "TEMPO_CATEGORIA                             2 dias  3 a 7 dias  8 a 30 dias  \\\n",
       "RUBRICA                                                                       \n",
       "Ameaça (art. 147)                                1           9            2   \n",
       "Estelionato (art. 171)                           2           2            0   \n",
       "Furto (art. 155)                               232         260          100   \n",
       "Lesão corporal (art. 129)                        1           0            0   \n",
       "Localização/Apreensão de veículo                 0           0            0   \n",
       "Localização/Apreensão e Entrega de objeto        2           0            0   \n",
       "Localização/Apreensão e Entrega de veículo       1           2            1   \n",
       "Outros não criminal                              4          17            3   \n",
       "Perda/Extravio                                  81         120           54   \n",
       "Roubo (art. 157)                               116         176           66   \n",
       "\n",
       "TEMPO_CATEGORIA                             30 dias a 1 ano  Mais de 1 ano  \n",
       "RUBRICA                                                                     \n",
       "Ameaça (art. 147)                                         0              0  \n",
       "Estelionato (art. 171)                                    0              0  \n",
       "Furto (art. 155)                                         42              7  \n",
       "Lesão corporal (art. 129)                                 1              0  \n",
       "Localização/Apreensão de veículo                          0              0  \n",
       "Localização/Apreensão e Entrega de objeto                 0              0  \n",
       "Localização/Apreensão e Entrega de veículo                0              0  \n",
       "Outros não criminal                                       5              0  \n",
       "Perda/Extravio                                           14              2  \n",
       "Roubo (art. 157)                                         12              1  "
      ]
     },
     "execution_count": 9,
     "metadata": {},
     "output_type": "execute_result"
    }
   ],
   "source": [
    "atraso_por_crime\n",
    "\n",
    "crime_counts = dados['RUBRICA'].value_counts()\n",
    "crimes_filtrados = crime_counts[crime_counts >= 10].index\n",
    "dados_filtrados = dados[dados['RUBRICA'].isin(crimes_filtrados)]\n",
    "\n",
    "# Criar os intervalos de tempo\n",
    "intervalos = [-1, 0, 1, 2, 7, 30, 365, float('inf')]\n",
    "labels = ['No mesmo dia', '1 dia de atraso', '2 dias', '3 a 7 dias', '8 a 30 dias', '30 dias a 1 ano', 'Mais de 1 ano']\n",
    "\n",
    "# Adicionar uma nova coluna com a categoria de tempo de atraso\n",
    "dados_filtrados['TEMPO_CATEGORIA'] = pd.cut(dados_filtrados['TEMPO_ATRASO'], bins=intervalos, labels=labels)\n",
    "\n",
    "# Agrupar por crime e categoria de tempo de atraso\n",
    "atraso_por_crime = dados_filtrados.groupby(['RUBRICA', 'TEMPO_CATEGORIA']).size().unstack(fill_value=0)\n",
    "\n",
    "atraso_por_crime"
   ]
  },
  {
   "cell_type": "code",
   "execution_count": 69,
   "metadata": {},
   "outputs": [
    {
     "name": "stdout",
     "output_type": "stream",
     "text": [
      "Index(['Ameaça (art. 147)', 'Estelionato (art. 171)', 'Furto (art. 155)',\n",
      "       'Lesão corporal (art. 129)', 'Localização/Apreensão de veículo',\n",
      "       'Localização/Apreensão e Entrega de objeto',\n",
      "       'Localização/Apreensão e Entrega de veículo', 'Outros não criminal',\n",
      "       'Perda/Extravio', 'Roubo (art. 157)'],\n",
      "      dtype='object', name='RUBRICA')\n",
      "Index(['Ameaça (art. 147)', 'Estelionato (art. 171)', 'Furto (art. 155)',\n",
      "       'Lesão corporal (art. 129)', 'Localização/Apreensão de veículo',\n",
      "       'Localização/Apreensão e Entrega de objeto',\n",
      "       'Localização/Apreensão e Entrega de veículo', 'Outros não criminal',\n",
      "       'Perda/Extravio', 'Roubo (art. 157)'],\n",
      "      dtype='object', name='RUBRICA')\n",
      "Index(['Ameaça (art. 147)', 'Estelionato (art. 171)', 'Furto (art. 155)',\n",
      "       'Lesão corporal (art. 129)', 'Localização/Apreensão de veículo',\n",
      "       'Localização/Apreensão e Entrega de objeto',\n",
      "       'Localização/Apreensão e Entrega de veículo', 'Outros não criminal',\n",
      "       'Perda/Extravio', 'Roubo (art. 157)'],\n",
      "      dtype='object', name='RUBRICA')\n",
      "Index(['Ameaça (art. 147)', 'Estelionato (art. 171)', 'Furto (art. 155)',\n",
      "       'Lesão corporal (art. 129)', 'Localização/Apreensão de veículo',\n",
      "       'Localização/Apreensão e Entrega de objeto',\n",
      "       'Localização/Apreensão e Entrega de veículo', 'Outros não criminal',\n",
      "       'Perda/Extravio', 'Roubo (art. 157)'],\n",
      "      dtype='object', name='RUBRICA')\n",
      "Index(['Ameaça (art. 147)', 'Estelionato (art. 171)', 'Furto (art. 155)',\n",
      "       'Lesão corporal (art. 129)', 'Localização/Apreensão de veículo',\n",
      "       'Localização/Apreensão e Entrega de objeto',\n",
      "       'Localização/Apreensão e Entrega de veículo', 'Outros não criminal',\n",
      "       'Perda/Extravio', 'Roubo (art. 157)'],\n",
      "      dtype='object', name='RUBRICA')\n",
      "Index(['Ameaça (art. 147)', 'Estelionato (art. 171)', 'Furto (art. 155)',\n",
      "       'Lesão corporal (art. 129)', 'Localização/Apreensão de veículo',\n",
      "       'Localização/Apreensão e Entrega de objeto',\n",
      "       'Localização/Apreensão e Entrega de veículo', 'Outros não criminal',\n",
      "       'Perda/Extravio', 'Roubo (art. 157)'],\n",
      "      dtype='object', name='RUBRICA')\n",
      "Index(['Ameaça (art. 147)', 'Estelionato (art. 171)', 'Furto (art. 155)',\n",
      "       'Lesão corporal (art. 129)', 'Localização/Apreensão de veículo',\n",
      "       'Localização/Apreensão e Entrega de objeto',\n",
      "       'Localização/Apreensão e Entrega de veículo', 'Outros não criminal',\n",
      "       'Perda/Extravio', 'Roubo (art. 157)'],\n",
      "      dtype='object', name='RUBRICA')\n"
     ]
    },
    {
     "data": {
      "image/png": "[encoded data removed]",
      "text/plain": [
       "<Figure size 1200x800 with 1 Axes>"
      ]
     },
     "metadata": {},
     "output_type": "display_data"
    }
   ],
   "source": [
    "import pandas as pd\n",
    "import seaborn as sns\n",
    "import matplotlib.pyplot as plt\n",
    "\n",
    "# Suponha que você já tenha os dados e tenha feito as operações necessárias para criar o dataframe 'atraso_por_crime'\n",
    "\n",
    "# Configurar o estilo e tamanho do gráfico\n",
    "sns.set(style=\"whitegrid\")\n",
    "plt.figure(figsize=(12, 8))\n",
    "\n",
    "# Calcular o total de ocorrências para cada tipo de crime\n",
    "atraso_por_crime['Total'] = atraso_por_crime[labels].sum(axis=1)\n",
    "\n",
    "# Calcular a proporção em relação ao total para cada categoria de tempo de atraso\n",
    "for categoria in labels:\n",
    "    atraso_por_crime[categoria] = atraso_por_crime[categoria] / atraso_por_crime['Total']\n",
    "\n",
    "# Definir uma paleta de cores diferente\n",
    "cores = sns.color_palette(\"rocket\", len(labels))\n",
    "\n",
    "# Plotar o histograma empilhado\n",
    "for i, categoria in enumerate(labels):\n",
    "    print(atraso_por_crime.index)\n",
    "    plt.barh(atraso_por_crime.index, atraso_por_crime[categoria], label=categoria, color=cores[i])\n",
    "\n",
    "# Adicionar legenda\n",
    "plt.legend()\n",
    "\n",
    "# Adicionar título e rótulos nos eixos\n",
    "plt.title('Proporção de ocorrências por categoria de tempo de atraso e crime')\n",
    "plt.xlabel('Proporção de Ocorrências')\n",
    "plt.ylabel('Tipo de Crime')\n",
    "\n",
    "# Mostrar o gráfico\n",
    "plt.tight_layout()\n",
    "plt.show()\n"
   ]
  }
 ],
 "metadata": {
  "kernelspec": {
   "display_name": "prob",
   "language": "python",
   "name": "python3"
  },
  "language_info": {
   "codemirror_mode": {
    "name": "ipython",
    "version": 3
   },
   "file_extension": ".py",
   "mimetype": "text/x-python",
   "name": "python",
   "nbconvert_exporter": "python",
   "pygments_lexer": "ipython3",
   "version": "3.9.18"
  }
 },
 "nbformat": 4,
 "nbformat_minor": 2
}
